{
 "cells": [
  {
   "cell_type": "markdown",
   "id": "ecd41d92",
   "metadata": {},
   "source": [
    "# 1. Read file"
   ]
  },
  {
   "cell_type": "code",
   "execution_count": 1,
   "id": "4d913ce2",
   "metadata": {},
   "outputs": [],
   "source": [
    "import pandas as pd\n",
    "\n",
    "ds = pd.read_csv('binaaz_train.csv')"
   ]
  },
  {
   "cell_type": "markdown",
   "id": "3c346a08",
   "metadata": {},
   "source": [
    "# 2. Clean data"
   ]
  },
  {
   "cell_type": "code",
   "execution_count": 2,
   "id": "f6bda579",
   "metadata": {},
   "outputs": [
    {
     "name": "stdout",
     "output_type": "stream",
     "text": [
      "[135.  132.5 115.  ...  72.  109.   82. ]\n",
      "[135.  132.5 115.  ...  72.  109.   82. ]\n"
     ]
    }
   ],
   "source": [
    "ds.rename(columns = {'Sahə':'area', 'Otaq sayı':'rooms'}, inplace = True)\n",
    "\n",
    "ds['area'] = ds['area'].apply(lambda x: float(x.rstrip('m²м')))\n",
    "\n",
    "print(ds['area'].values)"
   ]
  },
  {
   "cell_type": "markdown",
   "id": "3faf6c75",
   "metadata": {},
   "source": [
    "## a) Area"
   ]
  },
  {
   "cell_type": "code",
   "execution_count": 3,
   "id": "0c195d2a",
   "metadata": {},
   "outputs": [
    {
     "data": {
      "text/plain": [
       "{'whiskers': [<matplotlib.lines.Line2D at 0x1bbc780bd90>,\n",
       "  <matplotlib.lines.Line2D at 0x1bbc78500a0>],\n",
       " 'caps': [<matplotlib.lines.Line2D at 0x1bbc7850370>,\n",
       "  <matplotlib.lines.Line2D at 0x1bbc7850640>],\n",
       " 'boxes': [<matplotlib.lines.Line2D at 0x1bbc780bac0>],\n",
       " 'medians': [<matplotlib.lines.Line2D at 0x1bbc7850910>],\n",
       " 'fliers': [<matplotlib.lines.Line2D at 0x1bbc7850be0>],\n",
       " 'means': []}"
      ]
     },
     "execution_count": 3,
     "metadata": {},
     "output_type": "execute_result"
    },
    {
     "data": {
      "text/plain": [
       "{'whiskers': [<matplotlib.lines.Line2D at 0x1bbc780bd90>,\n",
       "  <matplotlib.lines.Line2D at 0x1bbc78500a0>],\n",
       " 'caps': [<matplotlib.lines.Line2D at 0x1bbc7850370>,\n",
       "  <matplotlib.lines.Line2D at 0x1bbc7850640>],\n",
       " 'boxes': [<matplotlib.lines.Line2D at 0x1bbc780bac0>],\n",
       " 'medians': [<matplotlib.lines.Line2D at 0x1bbc7850910>],\n",
       " 'fliers': [<matplotlib.lines.Line2D at 0x1bbc7850be0>],\n",
       " 'means': []}"
      ]
     },
     "execution_count": 3,
     "metadata": {},
     "output_type": "execute_result"
    },
    {
     "data": {
      "image/png": "[encoded data removed]",
      "text/plain": [
       "<Figure size 432x288 with 1 Axes>"
      ]
     },
     "metadata": {
      "needs_background": "light"
     },
     "output_type": "display_data"
    },
    {
     "data": {
      "image/png": "[encoded data removed]",
      "text/plain": [
       "<Figure size 432x288 with 1 Axes>"
      ]
     },
     "metadata": {
      "needs_background": "light"
     },
     "output_type": "display_data"
    }
   ],
   "source": [
    "import matplotlib.pyplot as plt\n",
    "\n",
    "plt.boxplot(ds['area'])"
   ]
  },
  {
   "cell_type": "code",
   "execution_count": 4,
   "id": "c6716594",
   "metadata": {},
   "outputs": [
    {
     "name": "stdout",
     "output_type": "stream",
     "text": [
      "-245.0 459.0\n",
      "10 459.0\n",
      "-245.0 459.0\n",
      "10 459.0\n"
     ]
    }
   ],
   "source": [
    "q1 = ds['area'].quantile(q = 0.25)\n",
    "q3 = ds['area'].quantile(q = 0.75)\n",
    "iqr = q3- q1\n",
    "\n",
    "max_ = q3 + 5*iqr\n",
    "min_ = q1 - 5*iqr\n",
    "print(min_, max_)\n",
    "min_ = 10\n",
    "print(min_, max_)"
   ]
  },
  {
   "cell_type": "code",
   "execution_count": 5,
   "id": "6ebb7ac5",
   "metadata": {},
   "outputs": [
    {
     "name": "stdout",
     "output_type": "stream",
     "text": [
      "float64\n",
      "float64\n"
     ]
    }
   ],
   "source": [
    "import numpy as np\n",
    "ds = ds[ds['area'].apply(lambda x: x > min_ and x < max_)]\n",
    "print(ds['area'].dtypes)"
   ]
  },
  {
   "cell_type": "code",
   "execution_count": 6,
   "id": "e11bf694",
   "metadata": {},
   "outputs": [
    {
     "data": {
      "text/plain": [
       "count    69078.000000\n",
       "mean       113.091921\n",
       "std         51.115468\n",
       "min         11.000000\n",
       "25%         75.000000\n",
       "50%        105.000000\n",
       "75%        138.000000\n",
       "max        453.000000\n",
       "Name: area, dtype: float64"
      ]
     },
     "execution_count": 6,
     "metadata": {},
     "output_type": "execute_result"
    },
    {
     "data": {
      "text/plain": [
       "count    69078.000000\n",
       "mean       113.091921\n",
       "std         51.115468\n",
       "min         11.000000\n",
       "25%         75.000000\n",
       "50%        105.000000\n",
       "75%        138.000000\n",
       "max        453.000000\n",
       "Name: area, dtype: float64"
      ]
     },
     "execution_count": 6,
     "metadata": {},
     "output_type": "execute_result"
    }
   ],
   "source": [
    "ds['area'].describe()"
   ]
  },
  {
   "cell_type": "code",
   "execution_count": 7,
   "id": "421f0295",
   "metadata": {},
   "outputs": [
    {
     "data": {
      "text/plain": [
       "{'whiskers': [<matplotlib.lines.Line2D at 0x1bbca1aee00>,\n",
       "  <matplotlib.lines.Line2D at 0x1bbca1af0d0>],\n",
       " 'caps': [<matplotlib.lines.Line2D at 0x1bbca1ac850>,\n",
       "  <matplotlib.lines.Line2D at 0x1bbca1af550>],\n",
       " 'boxes': [<matplotlib.lines.Line2D at 0x1bbca1aeb30>],\n",
       " 'medians': [<matplotlib.lines.Line2D at 0x1bbca1af820>],\n",
       " 'fliers': [<matplotlib.lines.Line2D at 0x1bbca1afaf0>],\n",
       " 'means': []}"
      ]
     },
     "execution_count": 7,
     "metadata": {},
     "output_type": "execute_result"
    },
    {
     "data": {
      "text/plain": [
       "{'whiskers': [<matplotlib.lines.Line2D at 0x1bbca1aee00>,\n",
       "  <matplotlib.lines.Line2D at 0x1bbca1af0d0>],\n",
       " 'caps': [<matplotlib.lines.Line2D at 0x1bbca1ac850>,\n",
       "  <matplotlib.lines.Line2D at 0x1bbca1af550>],\n",
       " 'boxes': [<matplotlib.lines.Line2D at 0x1bbca1aeb30>],\n",
       " 'medians': [<matplotlib.lines.Line2D at 0x1bbca1af820>],\n",
       " 'fliers': [<matplotlib.lines.Line2D at 0x1bbca1afaf0>],\n",
       " 'means': []}"
      ]
     },
     "execution_count": 7,
     "metadata": {},
     "output_type": "execute_result"
    },
    {
     "data": {
      "image/png": "[encoded data removed]",
      "text/plain": [
       "<Figure size 432x288 with 1 Axes>"
      ]
     },
     "metadata": {
      "needs_background": "light"
     },
     "output_type": "display_data"
    },
    {
     "data": {
      "image/png": "[encoded data removed]",
      "text/plain": [
       "<Figure size 432x288 with 1 Axes>"
      ]
     },
     "metadata": {
      "needs_background": "light"
     },
     "output_type": "display_data"
    }
   ],
   "source": [
    "plt.boxplot(ds['area'])"
   ]
  },
  {
   "cell_type": "markdown",
   "id": "9b8104b5",
   "metadata": {},
   "source": [
    "## b) Number of rooms"
   ]
  },
  {
   "cell_type": "code",
   "execution_count": 8,
   "id": "35ba86c0",
   "metadata": {},
   "outputs": [
    {
     "data": {
      "text/plain": [
       "{'whiskers': [<matplotlib.lines.Line2D at 0x1bbca348ee0>,\n",
       "  <matplotlib.lines.Line2D at 0x1bbca3491b0>],\n",
       " 'caps': [<matplotlib.lines.Line2D at 0x1bbca349480>,\n",
       "  <matplotlib.lines.Line2D at 0x1bbca349750>],\n",
       " 'boxes': [<matplotlib.lines.Line2D at 0x1bbca348c10>],\n",
       " 'medians': [<matplotlib.lines.Line2D at 0x1bbca349a20>],\n",
       " 'fliers': [<matplotlib.lines.Line2D at 0x1bbca349cf0>],\n",
       " 'means': []}"
      ]
     },
     "execution_count": 8,
     "metadata": {},
     "output_type": "execute_result"
    },
    {
     "data": {
      "text/plain": [
       "{'whiskers': [<matplotlib.lines.Line2D at 0x1bbca348ee0>,\n",
       "  <matplotlib.lines.Line2D at 0x1bbca3491b0>],\n",
       " 'caps': [<matplotlib.lines.Line2D at 0x1bbca349480>,\n",
       "  <matplotlib.lines.Line2D at 0x1bbca349750>],\n",
       " 'boxes': [<matplotlib.lines.Line2D at 0x1bbca348c10>],\n",
       " 'medians': [<matplotlib.lines.Line2D at 0x1bbca349a20>],\n",
       " 'fliers': [<matplotlib.lines.Line2D at 0x1bbca349cf0>],\n",
       " 'means': []}"
      ]
     },
     "execution_count": 8,
     "metadata": {},
     "output_type": "execute_result"
    },
    {
     "data": {
      "image/png": "[encoded data removed]",
      "text/plain": [
       "<Figure size 432x288 with 1 Axes>"
      ]
     },
     "metadata": {
      "needs_background": "light"
     },
     "output_type": "display_data"
    },
    {
     "data": {
      "image/png": "[encoded data removed]",
      "text/plain": [
       "<Figure size 432x288 with 1 Axes>"
      ]
     },
     "metadata": {
      "needs_background": "light"
     },
     "output_type": "display_data"
    }
   ],
   "source": [
    "plt.boxplot(ds['rooms'])"
   ]
  },
  {
   "cell_type": "code",
   "execution_count": 9,
   "id": "48e9a954",
   "metadata": {},
   "outputs": [
    {
     "data": {
      "text/plain": [
       "array([3, 3, 2, ..., 2, 3, 2], dtype=int64)"
      ]
     },
     "execution_count": 9,
     "metadata": {},
     "output_type": "execute_result"
    },
    {
     "data": {
      "text/plain": [
       "array([3, 3, 2, ..., 2, 3, 2], dtype=int64)"
      ]
     },
     "execution_count": 9,
     "metadata": {},
     "output_type": "execute_result"
    }
   ],
   "source": [
    "ds['rooms'].values"
   ]
  },
  {
   "cell_type": "markdown",
   "id": "efb8e1d4",
   "metadata": {},
   "source": [
    "## Target: Price"
   ]
  },
  {
   "cell_type": "code",
   "execution_count": 10,
   "id": "8ca76a5a",
   "metadata": {},
   "outputs": [
    {
     "data": {
      "text/plain": [
       "69078"
      ]
     },
     "execution_count": 10,
     "metadata": {},
     "output_type": "execute_result"
    },
    {
     "data": {
      "text/plain": [
       "69078"
      ]
     },
     "execution_count": 10,
     "metadata": {},
     "output_type": "execute_result"
    },
    {
     "data": {
      "image/png": "[encoded data removed]",
      "text/plain": [
       "<Figure size 432x288 with 1 Axes>"
      ]
     },
     "metadata": {
      "needs_background": "light"
     },
     "output_type": "display_data"
    },
    {
     "data": {
      "image/png": "[encoded data removed]",
      "text/plain": [
       "<Figure size 432x288 with 1 Axes>"
      ]
     },
     "metadata": {
      "needs_background": "light"
     },
     "output_type": "display_data"
    }
   ],
   "source": [
    "import matplotlib.pyplot as plt\n",
    "\n",
    "plt.boxplot(ds['price'])\n",
    "ds['price'].size"
   ]
  },
  {
   "cell_type": "code",
   "execution_count": 11,
   "id": "2f8bc0ae",
   "metadata": {},
   "outputs": [
    {
     "name": "stdout",
     "output_type": "stream",
     "text": [
      "-387000.0 720000.0\n",
      "0 720000.0\n",
      "-387000.0 720000.0\n",
      "0 720000.0\n"
     ]
    }
   ],
   "source": [
    "q1 = ds['price'].quantile(q = 0.25)\n",
    "q3 = ds['price'].quantile(q = 0.75)\n",
    "iqr = q3- q1\n",
    "\n",
    "max_ = q3 + 4*iqr\n",
    "min_ = q1 - 4*iqr\n",
    "print(min_, max_)\n",
    "min_ = 0\n",
    "print(min_, max_)"
   ]
  },
  {
   "cell_type": "code",
   "execution_count": 12,
   "id": "16e0841e",
   "metadata": {},
   "outputs": [
    {
     "name": "stdout",
     "output_type": "stream",
     "text": [
      "int64\n",
      "int64\n"
     ]
    }
   ],
   "source": [
    "ds = ds[ds['price'].apply(lambda x: x > min_ and x < max_)]\n",
    "print(ds['price'].dtype)\n",
    "ds['price'] = ds['price'].dropna()"
   ]
  },
  {
   "cell_type": "code",
   "execution_count": 13,
   "id": "aded6562",
   "metadata": {},
   "outputs": [
    {
     "data": {
      "text/plain": [
       "68088"
      ]
     },
     "execution_count": 13,
     "metadata": {},
     "output_type": "execute_result"
    },
    {
     "data": {
      "text/plain": [
       "68088"
      ]
     },
     "execution_count": 13,
     "metadata": {},
     "output_type": "execute_result"
    }
   ],
   "source": [
    "ds['_id'].count()"
   ]
  },
  {
   "cell_type": "markdown",
   "id": "1122995a",
   "metadata": {},
   "source": [
    "## d) Other"
   ]
  },
  {
   "cell_type": "code",
   "execution_count": 14,
   "id": "22e5d9ef",
   "metadata": {},
   "outputs": [],
   "source": [
    "#kupca\n",
    "#ipoteka\n",
    "#poster_type"
   ]
  },
  {
   "cell_type": "code",
   "execution_count": 15,
   "id": "b50a51d5",
   "metadata": {},
   "outputs": [],
   "source": [
    "ds['Kupça'] = ds['Kupça'].apply(lambda s: 0 if s =='yoxdur' else 1)\n",
    "ds['İpoteka'] = ds['İpoteka'].apply(lambda s: 0 if s =='yoxdur' else 1)\n",
    "ds['poster_type'] = ds['poster_type'].apply(lambda s: 1 if s =='vasitəçi (agent)' else 0)"
   ]
  },
  {
   "cell_type": "markdown",
   "id": "7c9b62b4",
   "metadata": {},
   "source": [
    "# f) Latitude, Longitude"
   ]
  },
  {
   "cell_type": "code",
   "execution_count": 16,
   "id": "8fbf4a9b",
   "metadata": {},
   "outputs": [
    {
     "data": {
      "text/html": [
       "<div>\n",
       "<style scoped>\n",
       "    .dataframe tbody tr th:only-of-type {\n",
       "        vertical-align: middle;\n",
       "    }\n",
       "\n",
       "    .dataframe tbody tr th {\n",
       "        vertical-align: top;\n",
       "    }\n",
       "\n",
       "    .dataframe thead th {\n",
       "        text-align: right;\n",
       "    }\n",
       "</style>\n",
       "<table border=\"1\" class=\"dataframe\">\n",
       "  <thead>\n",
       "    <tr style=\"text-align: right;\">\n",
       "      <th></th>\n",
       "      <th>latitude</th>\n",
       "      <th>longitude</th>\n",
       "    </tr>\n",
       "  </thead>\n",
       "  <tbody>\n",
       "    <tr>\n",
       "      <th>count</th>\n",
       "      <td>68088.000000</td>\n",
       "      <td>68088.000000</td>\n",
       "    </tr>\n",
       "    <tr>\n",
       "      <th>mean</th>\n",
       "      <td>40.399235</td>\n",
       "      <td>49.842797</td>\n",
       "    </tr>\n",
       "    <tr>\n",
       "      <th>std</th>\n",
       "      <td>0.192667</td>\n",
       "      <td>0.750604</td>\n",
       "    </tr>\n",
       "    <tr>\n",
       "      <th>min</th>\n",
       "      <td>39.247907</td>\n",
       "      <td>-144.714092</td>\n",
       "    </tr>\n",
       "    <tr>\n",
       "      <th>25%</th>\n",
       "      <td>40.382758</td>\n",
       "      <td>49.808717</td>\n",
       "    </tr>\n",
       "    <tr>\n",
       "      <th>50%</th>\n",
       "      <td>40.393627</td>\n",
       "      <td>49.837656</td>\n",
       "    </tr>\n",
       "    <tr>\n",
       "      <th>75%</th>\n",
       "      <td>40.406314</td>\n",
       "      <td>49.871877</td>\n",
       "    </tr>\n",
       "    <tr>\n",
       "      <th>max</th>\n",
       "      <td>89.464469</td>\n",
       "      <td>50.331135</td>\n",
       "    </tr>\n",
       "  </tbody>\n",
       "</table>\n",
       "</div>"
      ],
      "text/plain": [
       "           latitude     longitude\n",
       "count  68088.000000  68088.000000\n",
       "mean      40.399235     49.842797\n",
       "std        0.192667      0.750604\n",
       "min       39.247907   -144.714092\n",
       "25%       40.382758     49.808717\n",
       "50%       40.393627     49.837656\n",
       "75%       40.406314     49.871877\n",
       "max       89.464469     50.331135"
      ]
     },
     "execution_count": 16,
     "metadata": {},
     "output_type": "execute_result"
    },
    {
     "data": {
      "text/html": [
       "<div>\n",
       "<style scoped>\n",
       "    .dataframe tbody tr th:only-of-type {\n",
       "        vertical-align: middle;\n",
       "    }\n",
       "\n",
       "    .dataframe tbody tr th {\n",
       "        vertical-align: top;\n",
       "    }\n",
       "\n",
       "    .dataframe thead th {\n",
       "        text-align: right;\n",
       "    }\n",
       "</style>\n",
       "<table border=\"1\" class=\"dataframe\">\n",
       "  <thead>\n",
       "    <tr style=\"text-align: right;\">\n",
       "      <th></th>\n",
       "      <th>latitude</th>\n",
       "      <th>longitude</th>\n",
       "    </tr>\n",
       "  </thead>\n",
       "  <tbody>\n",
       "    <tr>\n",
       "      <th>count</th>\n",
       "      <td>68088.000000</td>\n",
       "      <td>68088.000000</td>\n",
       "    </tr>\n",
       "    <tr>\n",
       "      <th>mean</th>\n",
       "      <td>40.399235</td>\n",
       "      <td>49.842797</td>\n",
       "    </tr>\n",
       "    <tr>\n",
       "      <th>std</th>\n",
       "      <td>0.192667</td>\n",
       "      <td>0.750604</td>\n",
       "    </tr>\n",
       "    <tr>\n",
       "      <th>min</th>\n",
       "      <td>39.247907</td>\n",
       "      <td>-144.714092</td>\n",
       "    </tr>\n",
       "    <tr>\n",
       "      <th>25%</th>\n",
       "      <td>40.382758</td>\n",
       "      <td>49.808717</td>\n",
       "    </tr>\n",
       "    <tr>\n",
       "      <th>50%</th>\n",
       "      <td>40.393627</td>\n",
       "      <td>49.837656</td>\n",
       "    </tr>\n",
       "    <tr>\n",
       "      <th>75%</th>\n",
       "      <td>40.406314</td>\n",
       "      <td>49.871877</td>\n",
       "    </tr>\n",
       "    <tr>\n",
       "      <th>max</th>\n",
       "      <td>89.464469</td>\n",
       "      <td>50.331135</td>\n",
       "    </tr>\n",
       "  </tbody>\n",
       "</table>\n",
       "</div>"
      ],
      "text/plain": [
       "           latitude     longitude\n",
       "count  68088.000000  68088.000000\n",
       "mean      40.399235     49.842797\n",
       "std        0.192667      0.750604\n",
       "min       39.247907   -144.714092\n",
       "25%       40.382758     49.808717\n",
       "50%       40.393627     49.837656\n",
       "75%       40.406314     49.871877\n",
       "max       89.464469     50.331135"
      ]
     },
     "execution_count": 16,
     "metadata": {},
     "output_type": "execute_result"
    }
   ],
   "source": [
    "ds[['latitude', 'longitude']].describe()"
   ]
  },
  {
   "cell_type": "code",
   "execution_count": 17,
   "id": "c749c6a0",
   "metadata": {},
   "outputs": [
    {
     "name": "stdout",
     "output_type": "stream",
     "text": [
      "40.264977270770345 40.5240944498664\n",
      "1 40.5240944498664\n",
      "40.264977270770345 40.5240944498664\n",
      "1 40.5240944498664\n"
     ]
    }
   ],
   "source": [
    "q1 = ds['latitude'].quantile(q = 0.25)\n",
    "q3 = ds['latitude'].quantile(q = 0.75)\n",
    "iqr = q3 - q1\n",
    "\n",
    "max_ = q3 + 5*iqr\n",
    "min_ = q1 - 5*iqr\n",
    "print(min_, max_)\n",
    "min_ = 1\n",
    "print(min_, max_)\n",
    "ds = ds[ds['latitude'].apply(lambda x: x > min_ and x < max_)]"
   ]
  },
  {
   "cell_type": "code",
   "execution_count": 18,
   "id": "c3c491db",
   "metadata": {},
   "outputs": [
    {
     "name": "stdout",
     "output_type": "stream",
     "text": [
      "49.49432115534941 50.18658852593759\n",
      "1 50.18658852593759\n",
      "49.49432115534941 50.18658852593759\n",
      "1 50.18658852593759\n"
     ]
    }
   ],
   "source": [
    "q1 = ds['longitude'].quantile(q = 0.25)\n",
    "q3 = ds['longitude'].quantile(q = 0.75)\n",
    "iqr = q3 - q1\n",
    "\n",
    "max_ = q3 + 5*iqr\n",
    "min_ = q1 - 5*iqr\n",
    "print(min_, max_)\n",
    "min_ = 1\n",
    "print(min_, max_)\n",
    "ds = ds[ds['longitude'].apply(lambda x: x > min_ and x < max_)]"
   ]
  },
  {
   "cell_type": "code",
   "execution_count": 19,
   "id": "5b5e0a46",
   "metadata": {},
   "outputs": [
    {
     "data": {
      "text/html": [
       "<div>\n",
       "<style scoped>\n",
       "    .dataframe tbody tr th:only-of-type {\n",
       "        vertical-align: middle;\n",
       "    }\n",
       "\n",
       "    .dataframe tbody tr th {\n",
       "        vertical-align: top;\n",
       "    }\n",
       "\n",
       "    .dataframe thead th {\n",
       "        text-align: right;\n",
       "    }\n",
       "</style>\n",
       "<table border=\"1\" class=\"dataframe\">\n",
       "  <thead>\n",
       "    <tr style=\"text-align: right;\">\n",
       "      <th></th>\n",
       "      <th>latitude</th>\n",
       "      <th>longitude</th>\n",
       "    </tr>\n",
       "  </thead>\n",
       "  <tbody>\n",
       "    <tr>\n",
       "      <th>count</th>\n",
       "      <td>67614.000000</td>\n",
       "      <td>67614.000000</td>\n",
       "    </tr>\n",
       "    <tr>\n",
       "      <th>mean</th>\n",
       "      <td>40.397169</td>\n",
       "      <td>49.846821</td>\n",
       "    </tr>\n",
       "    <tr>\n",
       "      <th>std</th>\n",
       "      <td>0.025817</td>\n",
       "      <td>0.057501</td>\n",
       "    </tr>\n",
       "    <tr>\n",
       "      <th>min</th>\n",
       "      <td>39.247907</td>\n",
       "      <td>48.837083</td>\n",
       "    </tr>\n",
       "    <tr>\n",
       "      <th>25%</th>\n",
       "      <td>40.382670</td>\n",
       "      <td>49.808988</td>\n",
       "    </tr>\n",
       "    <tr>\n",
       "      <th>50%</th>\n",
       "      <td>40.393542</td>\n",
       "      <td>49.837929</td>\n",
       "    </tr>\n",
       "    <tr>\n",
       "      <th>75%</th>\n",
       "      <td>40.405538</td>\n",
       "      <td>49.871922</td>\n",
       "    </tr>\n",
       "    <tr>\n",
       "      <th>max</th>\n",
       "      <td>40.522015</td>\n",
       "      <td>50.184795</td>\n",
       "    </tr>\n",
       "  </tbody>\n",
       "</table>\n",
       "</div>"
      ],
      "text/plain": [
       "           latitude     longitude\n",
       "count  67614.000000  67614.000000\n",
       "mean      40.397169     49.846821\n",
       "std        0.025817      0.057501\n",
       "min       39.247907     48.837083\n",
       "25%       40.382670     49.808988\n",
       "50%       40.393542     49.837929\n",
       "75%       40.405538     49.871922\n",
       "max       40.522015     50.184795"
      ]
     },
     "execution_count": 19,
     "metadata": {},
     "output_type": "execute_result"
    },
    {
     "data": {
      "text/html": [
       "<div>\n",
       "<style scoped>\n",
       "    .dataframe tbody tr th:only-of-type {\n",
       "        vertical-align: middle;\n",
       "    }\n",
       "\n",
       "    .dataframe tbody tr th {\n",
       "        vertical-align: top;\n",
       "    }\n",
       "\n",
       "    .dataframe thead th {\n",
       "        text-align: right;\n",
       "    }\n",
       "</style>\n",
       "<table border=\"1\" class=\"dataframe\">\n",
       "  <thead>\n",
       "    <tr style=\"text-align: right;\">\n",
       "      <th></th>\n",
       "      <th>latitude</th>\n",
       "      <th>longitude</th>\n",
       "    </tr>\n",
       "  </thead>\n",
       "  <tbody>\n",
       "    <tr>\n",
       "      <th>count</th>\n",
       "      <td>67614.000000</td>\n",
       "      <td>67614.000000</td>\n",
       "    </tr>\n",
       "    <tr>\n",
       "      <th>mean</th>\n",
       "      <td>40.397169</td>\n",
       "      <td>49.846821</td>\n",
       "    </tr>\n",
       "    <tr>\n",
       "      <th>std</th>\n",
       "      <td>0.025817</td>\n",
       "      <td>0.057501</td>\n",
       "    </tr>\n",
       "    <tr>\n",
       "      <th>min</th>\n",
       "      <td>39.247907</td>\n",
       "      <td>48.837083</td>\n",
       "    </tr>\n",
       "    <tr>\n",
       "      <th>25%</th>\n",
       "      <td>40.382670</td>\n",
       "      <td>49.808988</td>\n",
       "    </tr>\n",
       "    <tr>\n",
       "      <th>50%</th>\n",
       "      <td>40.393542</td>\n",
       "      <td>49.837929</td>\n",
       "    </tr>\n",
       "    <tr>\n",
       "      <th>75%</th>\n",
       "      <td>40.405538</td>\n",
       "      <td>49.871922</td>\n",
       "    </tr>\n",
       "    <tr>\n",
       "      <th>max</th>\n",
       "      <td>40.522015</td>\n",
       "      <td>50.184795</td>\n",
       "    </tr>\n",
       "  </tbody>\n",
       "</table>\n",
       "</div>"
      ],
      "text/plain": [
       "           latitude     longitude\n",
       "count  67614.000000  67614.000000\n",
       "mean      40.397169     49.846821\n",
       "std        0.025817      0.057501\n",
       "min       39.247907     48.837083\n",
       "25%       40.382670     49.808988\n",
       "50%       40.393542     49.837929\n",
       "75%       40.405538     49.871922\n",
       "max       40.522015     50.184795"
      ]
     },
     "execution_count": 19,
     "metadata": {},
     "output_type": "execute_result"
    }
   ],
   "source": [
    "ds[['latitude', 'longitude']].describe()"
   ]
  },
  {
   "cell_type": "code",
   "execution_count": 20,
   "id": "28f89490",
   "metadata": {},
   "outputs": [],
   "source": [
    "x = ds[['latitude', 'longitude']]"
   ]
  },
  {
   "cell_type": "code",
   "execution_count": 21,
   "id": "dfcd9e91",
   "metadata": {},
   "outputs": [],
   "source": [
    "from sklearn.cluster import KMeans\n",
    "\n",
    "l = []\n",
    "\n",
    "for n in range(1, 10):\n",
    "    kmeans = KMeans(n_clusters = n, random_state = 42).fit(x)\n",
    "    l.append(kmeans.inertia_)"
   ]
  },
  {
   "cell_type": "code",
   "execution_count": 22,
   "id": "f16e4ee7",
   "metadata": {},
   "outputs": [
    {
     "data": {
      "text/plain": [
       "[<matplotlib.lines.Line2D at 0x1bbd6f47820>]"
      ]
     },
     "execution_count": 22,
     "metadata": {},
     "output_type": "execute_result"
    },
    {
     "data": {
      "text/plain": [
       "[<matplotlib.lines.Line2D at 0x1bbd6f47820>]"
      ]
     },
     "execution_count": 22,
     "metadata": {},
     "output_type": "execute_result"
    },
    {
     "data": {
      "image/png": "[encoded data removed]",
      "text/plain": [
       "<Figure size 432x288 with 1 Axes>"
      ]
     },
     "metadata": {
      "needs_background": "light"
     },
     "output_type": "display_data"
    },
    {
     "data": {
      "image/png": "[encoded data removed]",
      "text/plain": [
       "<Figure size 432x288 with 1 Axes>"
      ]
     },
     "metadata": {
      "needs_background": "light"
     },
     "output_type": "display_data"
    }
   ],
   "source": [
    "x_elbow = [i for i in range(1,10)]\n",
    "y_elbow = l\n",
    "\n",
    "plt.plot(x_elbow, y_elbow)"
   ]
  },
  {
   "cell_type": "code",
   "execution_count": 23,
   "id": "804a838a",
   "metadata": {},
   "outputs": [],
   "source": [
    "kmeans = KMeans(n_clusters = 4, random_state = 42)\n",
    "#.fit(x)\n",
    "extra1 = kmeans.fit_transform(x)"
   ]
  },
  {
   "cell_type": "code",
   "execution_count": 24,
   "id": "8af84491",
   "metadata": {},
   "outputs": [
    {
     "data": {
      "text/plain": [
       "Index(['_id', 'title', 'price', 'price_currency', 'poster', 'poster_type',\n",
       "       'Ünvan', 'description', 'Yeniləndi', 'Mərtəbə', 'area', 'rooms',\n",
       "       'Kupça', 'İpoteka', 'locations', 'latitude', 'longitude', 'seher'],\n",
       "      dtype='object')"
      ]
     },
     "execution_count": 24,
     "metadata": {},
     "output_type": "execute_result"
    },
    {
     "data": {
      "text/plain": [
       "Index(['_id', 'title', 'price', 'price_currency', 'poster', 'poster_type',\n",
       "       'Ünvan', 'description', 'Yeniləndi', 'Mərtəbə', 'area', 'rooms',\n",
       "       'Kupça', 'İpoteka', 'locations', 'latitude', 'longitude', 'seher'],\n",
       "      dtype='object')"
      ]
     },
     "execution_count": 24,
     "metadata": {},
     "output_type": "execute_result"
    }
   ],
   "source": [
    "ds.columns"
   ]
  },
  {
   "cell_type": "markdown",
   "id": "b28b45ea",
   "metadata": {},
   "source": [
    "## g) Extra features"
   ]
  },
  {
   "cell_type": "code",
   "execution_count": 25,
   "id": "76e240ce",
   "metadata": {},
   "outputs": [],
   "source": [
    "x = ds[['area', 'rooms']]"
   ]
  },
  {
   "cell_type": "code",
   "execution_count": 26,
   "id": "a3d1eff0",
   "metadata": {},
   "outputs": [],
   "source": [
    "from sklearn.cluster import KMeans\n",
    "\n",
    "l = []\n",
    "\n",
    "for n in range(1, 10):\n",
    "    kmeans = KMeans(n_clusters = n, random_state = 42).fit(x)\n",
    "    l.append(kmeans.inertia_)"
   ]
  },
  {
   "cell_type": "code",
   "execution_count": 27,
   "id": "09311dd3",
   "metadata": {},
   "outputs": [
    {
     "data": {
      "text/plain": [
       "[<matplotlib.lines.Line2D at 0x1bbd6fbf340>]"
      ]
     },
     "execution_count": 27,
     "metadata": {},
     "output_type": "execute_result"
    },
    {
     "data": {
      "text/plain": [
       "[<matplotlib.lines.Line2D at 0x1bbd6fbf340>]"
      ]
     },
     "execution_count": 27,
     "metadata": {},
     "output_type": "execute_result"
    },
    {
     "data": {
      "image/png": "[encoded data removed]",
      "text/plain": [
       "<Figure size 432x288 with 1 Axes>"
      ]
     },
     "metadata": {
      "needs_background": "light"
     },
     "output_type": "display_data"
    },
    {
     "data": {
      "image/png": "[encoded data removed]",
      "text/plain": [
       "<Figure size 432x288 with 1 Axes>"
      ]
     },
     "metadata": {
      "needs_background": "light"
     },
     "output_type": "display_data"
    }
   ],
   "source": [
    "x_elbow = [i for i in range(1,10)]\n",
    "y_elbow = l\n",
    "\n",
    "plt.plot(x_elbow, y_elbow)"
   ]
  },
  {
   "cell_type": "code",
   "execution_count": 28,
   "id": "6815840d",
   "metadata": {},
   "outputs": [],
   "source": [
    "kmeans = KMeans(n_clusters = 4, random_state = 42)\n",
    "#.fit(x)\n",
    "extra2 = kmeans.fit_transform(x)"
   ]
  },
  {
   "cell_type": "code",
   "execution_count": 29,
   "id": "76979397",
   "metadata": {},
   "outputs": [],
   "source": [
    "extra1 = pd.DataFrame(extra1)\n",
    "extra2 = pd.DataFrame(extra2)"
   ]
  },
  {
   "cell_type": "code",
   "execution_count": 30,
   "id": "ea2a388e",
   "metadata": {},
   "outputs": [
    {
     "data": {
      "text/plain": [
       "RangeIndex(start=0, stop=4, step=1)"
      ]
     },
     "execution_count": 30,
     "metadata": {},
     "output_type": "execute_result"
    },
    {
     "data": {
      "text/plain": [
       "RangeIndex(start=0, stop=4, step=1)"
      ]
     },
     "execution_count": 30,
     "metadata": {},
     "output_type": "execute_result"
    }
   ],
   "source": [
    "extra1.columns"
   ]
  },
  {
   "cell_type": "code",
   "execution_count": 31,
   "id": "419c599c",
   "metadata": {},
   "outputs": [],
   "source": [
    "extra1.rename(columns = {0:'1_0', 1:'1_1', 2:'1_2', 3:'1_3'}, inplace= True)\n",
    "extra2.rename(columns ={0:'2_0', 1:'2_1', 2:'2_2', 3:'2_3'}, inplace= True)"
   ]
  },
  {
   "cell_type": "code",
   "execution_count": 32,
   "id": "254c7c93",
   "metadata": {},
   "outputs": [],
   "source": [
    "ds = pd.concat([ds.reset_index(), extra1, extra2], axis= 1)"
   ]
  },
  {
   "cell_type": "markdown",
   "id": "febe7dc3",
   "metadata": {},
   "source": [
    "# Extra Extra features"
   ]
  },
  {
   "cell_type": "code",
   "execution_count": 33,
   "id": "fadc5e80",
   "metadata": {},
   "outputs": [],
   "source": [
    "ds['urg'] = ds['description'].apply(lambda x: any([w in str(x).lower() for w in ['tecili', 'təcili', 'tacili', 'tcili', 'təcılı']]))\n",
    "ds['rel_floor'] = ds['Mərtəbə'].apply(lambda x: int(x.split('/')[0])/int(x.split('/')[1]))"
   ]
  },
  {
   "cell_type": "markdown",
   "id": "cd8a77a5",
   "metadata": {},
   "source": [
    "# Even More features"
   ]
  },
  {
   "cell_type": "code",
   "execution_count": 34,
   "id": "e8e7cdcd",
   "metadata": {},
   "outputs": [],
   "source": [
    "# x = ds[['price', 'area']]"
   ]
  },
  {
   "cell_type": "code",
   "execution_count": 35,
   "id": "05dce76f",
   "metadata": {},
   "outputs": [],
   "source": [
    "# from sklearn.cluster import KMeans\n",
    "\n",
    "# l = []\n",
    "\n",
    "# for n in range(1, 10):\n",
    "#     kmeans = KMeans(n_clusters = n, random_state = 42).fit(x)\n",
    "#     l.append(kmeans.inertia_)"
   ]
  },
  {
   "cell_type": "code",
   "execution_count": 36,
   "id": "b01bdb77",
   "metadata": {},
   "outputs": [],
   "source": [
    "# x_elbow = [i for i in range(1,10)]\n",
    "# y_elbow = l\n",
    "\n",
    "# plt.plot(x_elbow, y_elbow)"
   ]
  },
  {
   "cell_type": "code",
   "execution_count": 37,
   "id": "73e81d7f",
   "metadata": {},
   "outputs": [],
   "source": [
    "#kmeans = KMeans(n_clusters = 3, random_state = 42).fit(x)"
   ]
  },
  {
   "cell_type": "code",
   "execution_count": 38,
   "id": "76e6932e",
   "metadata": {},
   "outputs": [],
   "source": [
    "#ds['price_range'] = kmeans.labels_"
   ]
  },
  {
   "cell_type": "markdown",
   "id": "3a80053a",
   "metadata": {},
   "source": [
    "# Predict Price Range"
   ]
  },
  {
   "cell_type": "code",
   "execution_count": 39,
   "id": "922a57c2",
   "metadata": {},
   "outputs": [],
   "source": [
    "# x_temp = ds[['area', 'rooms', 'kmea']]\n",
    "# y_temp = \n",
    "\n",
    "# could be added in the future"
   ]
  },
  {
   "cell_type": "markdown",
   "id": "dd02eefc",
   "metadata": {},
   "source": [
    "# TF-IDF"
   ]
  },
  {
   "cell_type": "code",
   "execution_count": 40,
   "id": "078a7b3c",
   "metadata": {},
   "outputs": [],
   "source": [
    "ds['description'] = ds['description'].fillna('nodescription', inplace=False)"
   ]
  },
  {
   "cell_type": "code",
   "execution_count": 41,
   "id": "33e0fb00",
   "metadata": {},
   "outputs": [],
   "source": [
    "from sklearn.feature_extraction.text import TfidfVectorizer\n",
    "tfidf = TfidfVectorizer(max_features=3000)\n",
    "x_tfidf = tfidf.fit_transform(ds['description'])"
   ]
  },
  {
   "cell_type": "markdown",
   "id": "ead4320b",
   "metadata": {},
   "source": [
    "# 3. Split dataset"
   ]
  },
  {
   "cell_type": "code",
   "execution_count": 42,
   "id": "eaaa7428",
   "metadata": {},
   "outputs": [],
   "source": [
    "temp=pd.DataFrame.sparse.from_spmatrix(x_tfidf)"
   ]
  },
  {
   "cell_type": "code",
   "execution_count": 43,
   "id": "2c005429",
   "metadata": {},
   "outputs": [],
   "source": [
    "ds.reset_index(inplace=True, drop=True)\n",
    "ds = pd.concat([ds, temp], axis=1)"
   ]
  },
  {
   "cell_type": "code",
   "execution_count": 44,
   "id": "8194d1e6",
   "metadata": {},
   "outputs": [
    {
     "data": {
      "text/plain": [
       "(67614, 3029)"
      ]
     },
     "execution_count": 44,
     "metadata": {},
     "output_type": "execute_result"
    },
    {
     "data": {
      "text/plain": [
       "(67614, 3029)"
      ]
     },
     "execution_count": 44,
     "metadata": {},
     "output_type": "execute_result"
    }
   ],
   "source": [
    "ds.shape"
   ]
  },
  {
   "cell_type": "code",
   "execution_count": 45,
   "id": "9de3d372",
   "metadata": {},
   "outputs": [
    {
     "name": "stdout",
     "output_type": "stream",
     "text": [
      "(67614, 16) (67614, 3007)\n",
      "(67614, 16) (67614, 3007)\n"
     ]
    }
   ],
   "source": [
    "x_tfidf = ds.drop(columns=['title',     'price',        'price_currency',\n",
    "                           'poster',   'Ünvan',     'description',  'Yeniləndi',        \n",
    "                           'Mərtəbə',  'locations', 'latitude',     'longitude', \n",
    "                           'seher',    'urg',       'rel_floor',\n",
    "                           '1_0', '1_1', '1_2', '1_3', '2_0', '2_1', '2_2', '2_3'], axis=1)\n",
    "\n",
    "x = ds[['_id', 'area', 'rooms', 'Kupça', 'İpoteka', 'poster_type', \n",
    "        'rel_floor', 'urg', '1_0', '1_1', '1_2', '1_3', '2_0', '2_1', '2_2', '2_3']]\n",
    "extra1.rename({0:'1_0', 1:'1_1', 2:'1_2', 3:'1_3'}, inplace= True)\n",
    "extra1.rename({0:'2_0', 1:'2_1', 2:'2_2', 3:'2_3'}, inplace= True)\n",
    "print(x.shape, x_tfidf.shape)\n",
    "#x_tfidf= pd.DataFrame.sparse.from_spmatrix(x_tfidf)"
   ]
  },
  {
   "cell_type": "code",
   "execution_count": 46,
   "id": "3da3f15f",
   "metadata": {},
   "outputs": [],
   "source": [
    "#x = pd.concat([x, x_tfidf], axis=1)\n",
    "x = pd.merge(x, x_tfidf, on='_id', how='left')\n",
    "x = x.drop(columns= ['_id',       'poster_type_y',    'area_y',\n",
    "                     'rooms_y',   'Kupça_y',          'İpoteka_y',\n",
    "                     'index'], axis=1)"
   ]
  },
  {
   "cell_type": "code",
   "execution_count": 47,
   "id": "f32e7aab",
   "metadata": {},
   "outputs": [],
   "source": [
    "y = ds['price']"
   ]
  },
  {
   "cell_type": "code",
   "execution_count": 48,
   "id": "cb8d96a0",
   "metadata": {},
   "outputs": [
    {
     "name": "stdout",
     "output_type": "stream",
     "text": [
      "(67614, 3015) (67614,)\n",
      "(67614, 3015) (67614,)\n"
     ]
    }
   ],
   "source": [
    "print(x.shape, y.shape)"
   ]
  },
  {
   "cell_type": "code",
   "execution_count": 49,
   "id": "c9701e3c",
   "metadata": {},
   "outputs": [],
   "source": [
    "from sklearn.model_selection import train_test_split\n",
    "SEED = 42\n",
    "x_train, x_test, y_train, y_test = train_test_split(x, y, test_size = 0.2, \\\n",
    "                                                   random_state = SEED)"
   ]
  },
  {
   "cell_type": "markdown",
   "id": "b6d2d5fb",
   "metadata": {},
   "source": [
    "# 5. Submission"
   ]
  },
  {
   "cell_type": "code",
   "execution_count": 50,
   "id": "f3e304c0",
   "metadata": {},
   "outputs": [],
   "source": [
    "from xgboost import XGBRegressor\n",
    "from sklearn.metrics import mean_squared_error, mean_absolute_error"
   ]
  },
  {
   "cell_type": "code",
   "execution_count": 51,
   "id": "b3a2c1b0",
   "metadata": {},
   "outputs": [],
   "source": [
    "y = ds['price']"
   ]
  },
  {
   "cell_type": "code",
   "execution_count": 52,
   "id": "9de55186",
   "metadata": {},
   "outputs": [
    {
     "data": {
      "text/plain": [
       "Index([       'area_x',       'rooms_x',       'Kupça_x',     'İpoteka_x',\n",
       "       'poster_type_x',     'rel_floor',           'urg',           '1_0',\n",
       "                 '1_1',           '1_2',           '1_3',           '2_0',\n",
       "                 '2_1',           '2_2',           '2_3',               0,\n",
       "                     1,               2,               3,               4,\n",
       "                     5,               6,               7,               8,\n",
       "                     9,              10,              11,              12,\n",
       "                    13,              14],\n",
       "      dtype='object')"
      ]
     },
     "execution_count": 52,
     "metadata": {},
     "output_type": "execute_result"
    },
    {
     "data": {
      "text/plain": [
       "Index([       'area_x',       'rooms_x',       'Kupça_x',     'İpoteka_x',\n",
       "       'poster_type_x',     'rel_floor',           'urg',           '1_0',\n",
       "                 '1_1',           '1_2',           '1_3',           '2_0',\n",
       "                 '2_1',           '2_2',           '2_3',               0,\n",
       "                     1,               2,               3,               4,\n",
       "                     5,               6,               7,               8,\n",
       "                     9,              10,              11,              12,\n",
       "                    13,              14],\n",
       "      dtype='object')"
      ]
     },
     "execution_count": 52,
     "metadata": {},
     "output_type": "execute_result"
    }
   ],
   "source": [
    "x_train.columns[:30]"
   ]
  },
  {
   "cell_type": "code",
   "execution_count": 53,
   "id": "8e07b058",
   "metadata": {},
   "outputs": [],
   "source": [
    "# from xgboost import XGBRegressor\n",
    "# reg = XGBRegressor(n_estimators = 100)\n",
    "# reg.fit(x_train, y_train, eval_set = [(x_train, y_train), (x_test, y_test)],\\\n",
    "#         eval_metric = [\"rmse\"], verbose = True)"
   ]
  },
  {
   "cell_type": "code",
   "execution_count": 54,
   "id": "86d16986",
   "metadata": {},
   "outputs": [],
   "source": [
    "#try ensemble(--) / stacking(+) / increase number of kmeans classes (+)\n",
    "#fight overfitting (++++)\n",
    "# from sklearn.metrics import mean_squared_error, mean_absolute_error\n",
    "# y_pred = reg.predict(x_test)\n",
    "# rmse = np.sqrt(mean_squared_error(y_test, y_pred))\n",
    "# mae = mean_absolute_error(y_test, y_pred)\n",
    "# print(f'RMSE_xgb: {int(rmse)}     MAE_xgb: {int(mae)}')"
   ]
  },
  {
   "cell_type": "code",
   "execution_count": 55,
   "id": "66f5e100",
   "metadata": {},
   "outputs": [],
   "source": [
    "#before submission"
   ]
  },
  {
   "cell_type": "code",
   "execution_count": 57,
   "id": "c053605e",
   "metadata": {},
   "outputs": [
    {
     "name": "stderr",
     "output_type": "stream",
     "text": [
      "C:\\ProgramData\\Anaconda3\\lib\\site-packages\\xgboost\\sklearn.py:793: UserWarning: `eval_metric` in `fit` method is deprecated for better compatibility with scikit-learn, use `eval_metric` in constructor or`set_params` instead.\n",
      "  warnings.warn(\n"
     ]
    },
    {
     "name": "stdout",
     "output_type": "stream",
     "text": [
      "[0]\tvalidation_0-rmse:156425.36570\tvalidation_1-rmse:153356.53796\n",
      "[1]\tvalidation_0-rmse:115483.99858\tvalidation_1-rmse:113230.49404\n",
      "[2]\tvalidation_0-rmse:88149.28088\tvalidation_1-rmse:86513.18553\n",
      "[3]\tvalidation_0-rmse:73044.00281\tvalidation_1-rmse:71304.14165\n",
      "[4]\tvalidation_0-rmse:64619.76046\tvalidation_1-rmse:62931.11779\n",
      "[5]\tvalidation_0-rmse:55956.08264\tvalidation_1-rmse:54376.89421\n",
      "[6]\tvalidation_0-rmse:51555.35027\tvalidation_1-rmse:50350.07631\n",
      "[7]\tvalidation_0-rmse:48148.74436\tvalidation_1-rmse:47233.19026\n",
      "[8]\tvalidation_0-rmse:46964.93867\tvalidation_1-rmse:46036.66278\n",
      "[9]\tvalidation_0-rmse:46274.44654\tvalidation_1-rmse:45257.97920\n",
      "[10]\tvalidation_0-rmse:45939.92049\tvalidation_1-rmse:44996.37885\n",
      "[11]\tvalidation_0-rmse:44697.02278\tvalidation_1-rmse:43950.04786\n",
      "[12]\tvalidation_0-rmse:44362.78111\tvalidation_1-rmse:43545.70230\n",
      "[13]\tvalidation_0-rmse:44224.60472\tvalidation_1-rmse:43437.85238\n",
      "[14]\tvalidation_0-rmse:43630.97995\tvalidation_1-rmse:42877.29922\n",
      "[15]\tvalidation_0-rmse:43235.16088\tvalidation_1-rmse:42475.56625\n",
      "[16]\tvalidation_0-rmse:42824.26038\tvalidation_1-rmse:42069.80451\n",
      "[17]\tvalidation_0-rmse:42371.37250\tvalidation_1-rmse:41683.10500\n",
      "[18]\tvalidation_0-rmse:42173.83147\tvalidation_1-rmse:41511.95744\n",
      "[19]\tvalidation_0-rmse:42023.29403\tvalidation_1-rmse:41375.35048\n",
      "[20]\tvalidation_0-rmse:41836.85567\tvalidation_1-rmse:41235.28011\n",
      "[21]\tvalidation_0-rmse:41498.42290\tvalidation_1-rmse:40991.26525\n",
      "[22]\tvalidation_0-rmse:41073.17950\tvalidation_1-rmse:40632.25597\n",
      "[23]\tvalidation_0-rmse:41036.99842\tvalidation_1-rmse:40608.00317\n",
      "[24]\tvalidation_0-rmse:40672.02392\tvalidation_1-rmse:40249.12227\n",
      "[25]\tvalidation_0-rmse:40629.66381\tvalidation_1-rmse:40128.75253\n",
      "[26]\tvalidation_0-rmse:40539.08953\tvalidation_1-rmse:40049.13974\n",
      "[27]\tvalidation_0-rmse:40480.13958\tvalidation_1-rmse:39949.74172\n",
      "[28]\tvalidation_0-rmse:40454.34077\tvalidation_1-rmse:39922.44591\n",
      "[29]\tvalidation_0-rmse:40267.20227\tvalidation_1-rmse:39763.28865\n",
      "[30]\tvalidation_0-rmse:40218.33767\tvalidation_1-rmse:39761.73490\n",
      "[31]\tvalidation_0-rmse:40102.11201\tvalidation_1-rmse:39678.61937\n",
      "[32]\tvalidation_0-rmse:40040.62925\tvalidation_1-rmse:39616.94806\n",
      "[33]\tvalidation_0-rmse:39923.45022\tvalidation_1-rmse:39510.03930\n",
      "[34]\tvalidation_0-rmse:39603.24870\tvalidation_1-rmse:39234.76663\n",
      "[35]\tvalidation_0-rmse:39568.68481\tvalidation_1-rmse:39192.38939\n",
      "[36]\tvalidation_0-rmse:39494.95766\tvalidation_1-rmse:39140.40149\n",
      "[37]\tvalidation_0-rmse:39364.72236\tvalidation_1-rmse:39027.62089\n",
      "[38]\tvalidation_0-rmse:39267.22522\tvalidation_1-rmse:38982.09179\n",
      "[39]\tvalidation_0-rmse:39221.82478\tvalidation_1-rmse:38939.60284\n",
      "[40]\tvalidation_0-rmse:39191.51960\tvalidation_1-rmse:38883.71052\n",
      "[41]\tvalidation_0-rmse:39156.34156\tvalidation_1-rmse:38804.56598\n",
      "[42]\tvalidation_0-rmse:39143.65324\tvalidation_1-rmse:38791.19882\n",
      "[43]\tvalidation_0-rmse:39067.12112\tvalidation_1-rmse:38697.13737\n",
      "[44]\tvalidation_0-rmse:38986.18141\tvalidation_1-rmse:38638.08041\n",
      "[45]\tvalidation_0-rmse:38974.35756\tvalidation_1-rmse:38642.81131\n",
      "[46]\tvalidation_0-rmse:38941.81772\tvalidation_1-rmse:38545.45755\n",
      "[47]\tvalidation_0-rmse:38857.25964\tvalidation_1-rmse:38430.84655\n",
      "[48]\tvalidation_0-rmse:38779.24635\tvalidation_1-rmse:38344.89894\n",
      "[49]\tvalidation_0-rmse:38732.13646\tvalidation_1-rmse:38345.41438\n",
      "[50]\tvalidation_0-rmse:38676.37589\tvalidation_1-rmse:38339.76626\n",
      "[51]\tvalidation_0-rmse:38649.66636\tvalidation_1-rmse:38323.55122\n",
      "[52]\tvalidation_0-rmse:38532.73650\tvalidation_1-rmse:38139.47052\n",
      "[53]\tvalidation_0-rmse:38554.14112\tvalidation_1-rmse:38075.33082\n",
      "[54]\tvalidation_0-rmse:38525.00327\tvalidation_1-rmse:38031.64873\n",
      "[55]\tvalidation_0-rmse:38492.87594\tvalidation_1-rmse:38006.87073\n",
      "[56]\tvalidation_0-rmse:38440.56031\tvalidation_1-rmse:37939.31791\n",
      "[57]\tvalidation_0-rmse:38350.28621\tvalidation_1-rmse:37787.73280\n",
      "[58]\tvalidation_0-rmse:38321.04812\tvalidation_1-rmse:37786.32429\n",
      "[59]\tvalidation_0-rmse:38314.42221\tvalidation_1-rmse:37734.03015\n",
      "[60]\tvalidation_0-rmse:38258.62378\tvalidation_1-rmse:37759.58416\n",
      "[61]\tvalidation_0-rmse:38202.43871\tvalidation_1-rmse:37753.38418\n",
      "[62]\tvalidation_0-rmse:38113.98556\tvalidation_1-rmse:37726.29890\n",
      "[63]\tvalidation_0-rmse:38092.68235\tvalidation_1-rmse:37687.17520\n",
      "[64]\tvalidation_0-rmse:37992.99444\tvalidation_1-rmse:37587.83726\n",
      "[65]\tvalidation_0-rmse:37939.95468\tvalidation_1-rmse:37573.25120\n",
      "[66]\tvalidation_0-rmse:37880.92520\tvalidation_1-rmse:37523.49043\n",
      "[67]\tvalidation_0-rmse:37899.37542\tvalidation_1-rmse:37521.25694\n",
      "[68]\tvalidation_0-rmse:37876.56078\tvalidation_1-rmse:37388.97949\n",
      "[69]\tvalidation_0-rmse:37864.26684\tvalidation_1-rmse:37382.54204\n",
      "[70]\tvalidation_0-rmse:37815.84900\tvalidation_1-rmse:37361.24496\n",
      "[71]\tvalidation_0-rmse:37761.79466\tvalidation_1-rmse:37346.16103\n",
      "[72]\tvalidation_0-rmse:37799.23583\tvalidation_1-rmse:37320.62662\n",
      "[73]\tvalidation_0-rmse:37774.67310\tvalidation_1-rmse:37258.79444\n",
      "[74]\tvalidation_0-rmse:37767.92600\tvalidation_1-rmse:37339.84927\n",
      "[75]\tvalidation_0-rmse:37761.32436\tvalidation_1-rmse:37359.36071\n",
      "[76]\tvalidation_0-rmse:37758.26538\tvalidation_1-rmse:37241.10675\n",
      "[77]\tvalidation_0-rmse:37662.24720\tvalidation_1-rmse:37188.17323\n",
      "[78]\tvalidation_0-rmse:37598.56827\tvalidation_1-rmse:37227.11240\n",
      "[79]\tvalidation_0-rmse:37607.13020\tvalidation_1-rmse:37163.10921\n",
      "[80]\tvalidation_0-rmse:37578.49721\tvalidation_1-rmse:37038.92645\n",
      "[81]\tvalidation_0-rmse:37496.39139\tvalidation_1-rmse:37072.18838\n",
      "[82]\tvalidation_0-rmse:37480.88536\tvalidation_1-rmse:37079.88241\n",
      "[83]\tvalidation_0-rmse:37425.70824\tvalidation_1-rmse:37044.28957\n",
      "[84]\tvalidation_0-rmse:37391.79104\tvalidation_1-rmse:37034.84988\n",
      "[85]\tvalidation_0-rmse:37383.26639\tvalidation_1-rmse:37004.62228\n",
      "[86]\tvalidation_0-rmse:37346.40280\tvalidation_1-rmse:36996.08512\n",
      "[87]\tvalidation_0-rmse:37299.21502\tvalidation_1-rmse:36917.37418\n",
      "[88]\tvalidation_0-rmse:37269.93080\tvalidation_1-rmse:36913.11146\n",
      "[89]\tvalidation_0-rmse:37250.50019\tvalidation_1-rmse:36930.66364\n",
      "[90]\tvalidation_0-rmse:37241.21210\tvalidation_1-rmse:36933.69514\n",
      "[91]\tvalidation_0-rmse:37215.77804\tvalidation_1-rmse:36930.06244\n",
      "[92]\tvalidation_0-rmse:37196.00580\tvalidation_1-rmse:36909.08673\n",
      "[93]\tvalidation_0-rmse:37161.62530\tvalidation_1-rmse:36900.26835\n",
      "[94]\tvalidation_0-rmse:37151.11168\tvalidation_1-rmse:36915.00080\n",
      "[95]\tvalidation_0-rmse:37135.91029\tvalidation_1-rmse:36902.48535\n",
      "[96]\tvalidation_0-rmse:37120.98351\tvalidation_1-rmse:36882.03074\n",
      "[97]\tvalidation_0-rmse:37075.58834\tvalidation_1-rmse:36892.35946\n",
      "[98]\tvalidation_0-rmse:37109.30304\tvalidation_1-rmse:36938.36001\n",
      "[99]\tvalidation_0-rmse:37098.27149\tvalidation_1-rmse:36915.89522\n"
     ]
    },
    {
     "data": {
      "text/plain": [
       "XGBRegressor(base_score=0.5, booster='gbtree', callbacks=None,\n",
       "             colsample_bylevel=1, colsample_bynode=1, colsample_bytree=0.1,\n",
       "             early_stopping_rounds=None, enable_categorical=False,\n",
       "             eval_metric=None, gamma=0, gpu_id=-1, grow_policy='depthwise',\n",
       "             importance_type=None, interaction_constraints='',\n",
       "             learning_rate=0.300000012, max_bin=256, max_cat_to_onehot=4,\n",
       "             max_delta_step=0, max_depth=6, max_leaves=0, min_child_weight=1,\n",
       "             missing=nan, monotone_constraints='()', n_estimators=100, n_jobs=0,\n",
       "             num_parallel_tree=1, predictor='auto', random_state=0, reg_alpha=0,\n",
       "             reg_lambda=1, ...)"
      ]
     },
     "execution_count": 57,
     "metadata": {},
     "output_type": "execute_result"
    }
   ],
   "source": [
    "reg = XGBRegressor(n_estimators = 250)\n",
    "reg.fit(x, y, eval_set = [(x_train, y_train), (x_test, y_test)],\\\n",
    "        eval_metric = [\"rmse\"], verbose = True)"
   ]
  },
  {
   "cell_type": "code",
   "execution_count": null,
   "id": "922d89b6",
   "metadata": {},
   "outputs": [],
   "source": [
    "test = pd.read_csv('binaaz_test.csv')\n",
    "test.rename(columns = {'Sahə':'area', 'Otaq sayı':'rooms'}, inplace = True)\n",
    "test['area'] = test['area'].apply(lambda x: float(x.rstrip('m²м')))\n",
    "test['Kupça'] = test['Kupça'].apply(lambda s: 0 if s =='yoxdur' else 1)\n",
    "test['İpoteka'] = test['İpoteka'].apply(lambda s: 0 if s =='yoxdur' else 1)\n",
    "test['poster_type'] = test['poster_type'].apply(lambda s: 1 if s =='vasitəçi (agent)' else 0)\n",
    "\n",
    "x_temp = test[['latitude', 'longitude']]\n",
    "\n",
    "kmeans = KMeans(n_clusters = 4, random_state = 42).fit(ds[['latitude', 'longitude']])\n",
    "extra1 = kmeans.transform(x_temp)\n",
    "\n",
    "\n",
    "x_temp = test[['area', 'rooms']]\n",
    "\n",
    "kmeans = KMeans(n_clusters = 4, random_state = 42).fit(ds[['area', 'rooms']])\n",
    "extra2 = kmeans.transform(x_temp)\n",
    "\n",
    "\n",
    "extra1 = pd.DataFrame(extra1, )\n",
    "extra2 = pd.DataFrame(extra2, )\n",
    "\n",
    "\n",
    "extra1.rename(columns ={0:'1_0', 1:'1_1', 2:'1_2', 3:'1_3'}, inplace= True)\n",
    "extra2.rename(columns ={0:'2_0', 1:'2_1', 2:'2_2', 3:'2_3'}, inplace= True)\n",
    "\n",
    "test = pd.concat([test, extra1, extra2], axis= 1)\n",
    "\n",
    "test['urg'] = test['description'].apply(lambda x: any([w in str(x).lower() for w in ['tecili', 'təcili', 'tacili', 'tcili', 'təcılı']]))\n",
    "test['rel_floor'] = test['Mərtəbə'].apply(lambda x: int(x.split('/')[0])/int(x.split('/')[1]))\n",
    "\n",
    "test['description'].fillna('nodescription', inplace=True)\n",
    "x_test_tfidf = tfidf.transform(test['description'])\n",
    "\n",
    "test = test[['area', 'rooms', 'Kupça', 'İpoteka', 'poster_type', 'rel_floor', \n",
    "             'urg', '1_0', '1_1', '1_2', '1_3', '2_0', '2_1', '2_2', '2_3']]"
   ]
  },
  {
   "cell_type": "code",
   "execution_count": null,
   "id": "e7ec7a64",
   "metadata": {},
   "outputs": [],
   "source": [
    "x.columns[:30]"
   ]
  },
  {
   "cell_type": "code",
   "execution_count": null,
   "id": "39e0b4ad",
   "metadata": {},
   "outputs": [],
   "source": [
    "test.columns[:30]"
   ]
  },
  {
   "cell_type": "code",
   "execution_count": null,
   "id": "2544d3f3",
   "metadata": {},
   "outputs": [],
   "source": [
    "temp2=pd.DataFrame.sparse.from_spmatrix(x_test_tfidf)"
   ]
  },
  {
   "cell_type": "code",
   "execution_count": null,
   "id": "633c809b",
   "metadata": {},
   "outputs": [],
   "source": [
    "test = pd.concat([test, temp2], axis=1)"
   ]
  },
  {
   "cell_type": "code",
   "execution_count": null,
   "id": "b42a7f19",
   "metadata": {},
   "outputs": [],
   "source": [
    "test2 = pd.read_csv('binaaz_test.csv')\n",
    "test2 = test2['_id']"
   ]
  },
  {
   "cell_type": "code",
   "execution_count": null,
   "id": "780d7b16",
   "metadata": {},
   "outputs": [],
   "source": [
    "y_pred = reg.predict(test)\n",
    "y_pred = pd.DataFrame(y_pred)"
   ]
  },
  {
   "cell_type": "code",
   "execution_count": null,
   "id": "5b6244df",
   "metadata": {},
   "outputs": [],
   "source": [
    "y_try = pd.concat([y_pred, test2], axis=1) "
   ]
  },
  {
   "cell_type": "code",
   "execution_count": null,
   "id": "ab2c89bb",
   "metadata": {},
   "outputs": [],
   "source": [
    "y_try"
   ]
  },
  {
   "cell_type": "code",
   "execution_count": null,
   "id": "ca7126d4",
   "metadata": {},
   "outputs": [],
   "source": [
    "out_dict = {'_id': y_try['_id'],\n",
    "            'price': y_try[0]\n",
    "           }\n",
    "out = pd.DataFrame(out_dict)"
   ]
  },
  {
   "cell_type": "code",
   "execution_count": null,
   "id": "fe5fdc91",
   "metadata": {},
   "outputs": [],
   "source": [
    "out.to_csv('submissionmax2try.csv', index=False)"
   ]
  },
  {
   "cell_type": "code",
   "execution_count": null,
   "id": "712fb985",
   "metadata": {},
   "outputs": [],
   "source": [
    "#add stacking\n",
    "#add distances to labels\n",
    "#make bigger train set, removed from cleaning"
   ]
  },
  {
   "cell_type": "code",
   "execution_count": null,
   "id": "ead3a152",
   "metadata": {},
   "outputs": [],
   "source": [
    "# x_test.iloc[:, 0]"
   ]
  },
  {
   "cell_type": "code",
   "execution_count": null,
   "id": "ededf757",
   "metadata": {
    "scrolled": true
   },
   "outputs": [],
   "source": [
    "# x_test.iloc[:, 0] = x_test.iloc[:, 0].apply(lambda x: float(x.rstrip('m²м')))"
   ]
  },
  {
   "cell_type": "code",
   "execution_count": null,
   "id": "9cd1fc86",
   "metadata": {
    "scrolled": true
   },
   "outputs": [],
   "source": [
    "# x_test"
   ]
  },
  {
   "cell_type": "code",
   "execution_count": null,
   "id": "db18c7ac",
   "metadata": {},
   "outputs": [],
   "source": [
    "# from xgboost import XGBRegressor\n",
    "# from sklearn.ensemble import RandomForestRegressor\n",
    "# reg = XGBRegressor()\n",
    "'''\n",
    "from sklearn.model_selection import GridSearchCV\n",
    "params = {\n",
    "          'n_estimators': [110],\n",
    "          'max_depth': [10],\n",
    "         }\n",
    "#'criterion': ['gini', 'entropy', 'log_loss']\n",
    "#'max_features': ['sqrt', 'log2', None]\n",
    "search = GridSearchCV(reg, param_grid=params, verbose=100)\n",
    "search.fit(x_train, y_train)\n",
    "search.best_params_\n",
    "reg = RandomForestRegressor(n_estimators=110, max_depth=10)\n",
    "reg.fit(x_train, y_train)\n",
    "'''"
   ]
  },
  {
   "cell_type": "code",
   "execution_count": null,
   "id": "5fc4b352",
   "metadata": {},
   "outputs": [],
   "source": [
    "# reg.fit(x_train, y_train)"
   ]
  },
  {
   "cell_type": "code",
   "execution_count": null,
   "id": "30d0050c",
   "metadata": {},
   "outputs": [],
   "source": [
    "# x_test.columns[:10]"
   ]
  },
  {
   "cell_type": "code",
   "execution_count": null,
   "id": "40763aed",
   "metadata": {
    "scrolled": true
   },
   "outputs": [],
   "source": [
    "# import os\n",
    "# filepath = os.getcwd()\n",
    "# print(filepath)"
   ]
  },
  {
   "cell_type": "code",
   "execution_count": null,
   "id": "917ac0b1",
   "metadata": {},
   "outputs": [],
   "source": [
    "# out.to_csv('submission_all.csv', index=False)"
   ]
  }
 ],
 "metadata": {
  "kernelspec": {
   "display_name": "Python 3 (ipykernel)",
   "language": "python",
   "name": "python3"
  },
  "language_info": {
   "codemirror_mode": {
    "name": "ipython",
    "version": 3
   },
   "file_extension": ".py",
   "mimetype": "text/x-python",
   "name": "python",
   "nbconvert_exporter": "python",
   "pygments_lexer": "ipython3",
   "version": "3.10.5"
  }
 },
 "nbformat": 4,
 "nbformat_minor": 5
}
