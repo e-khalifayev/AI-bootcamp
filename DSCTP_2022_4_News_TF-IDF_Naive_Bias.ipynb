{
 "cells": [
  {
   "cell_type": "markdown",
   "id": "9757dcc0",
   "metadata": {},
   "source": [
    "# 1. Load dataset"
   ]
  },
  {
   "cell_type": "markdown",
   "id": "755748a4",
   "metadata": {},
   "source": [
    "#### In this assignment, you are expected to build a model that classifies given news article in Azerbaijani into one of the pre-defined six categories. You will need to train your model on a dataset of 50000 news examples.\n",
    "#### You will need to read the data from data file (news.xlsx). It contains three columns: news category, news title, and the news content. Split the data into train and test sets. Reserve 20% of the data for testing."
   ]
  },
  {
   "cell_type": "code",
   "execution_count": 1,
   "id": "78a8cfde",
   "metadata": {},
   "outputs": [],
   "source": [
    "import pandas as pd\n",
    "\n",
    "dt = pd.read_excel('news.xlsx')"
   ]
  },
  {
   "cell_type": "code",
   "execution_count": 2,
   "id": "e27b755d",
   "metadata": {},
   "outputs": [
    {
     "data": {
      "text/html": [
       "<div>\n",
       "<style scoped>\n",
       "    .dataframe tbody tr th:only-of-type {\n",
       "        vertical-align: middle;\n",
       "    }\n",
       "\n",
       "    .dataframe tbody tr th {\n",
       "        vertical-align: top;\n",
       "    }\n",
       "\n",
       "    .dataframe thead th {\n",
       "        text-align: right;\n",
       "    }\n",
       "</style>\n",
       "<table border=\"1\" class=\"dataframe\">\n",
       "  <thead>\n",
       "    <tr style=\"text-align: right;\">\n",
       "      <th></th>\n",
       "      <th>Category</th>\n",
       "      <th>Title</th>\n",
       "      <th>News_Article</th>\n",
       "    </tr>\n",
       "  </thead>\n",
       "  <tbody>\n",
       "    <tr>\n",
       "      <th>0</th>\n",
       "      <td>Maraqlı</td>\n",
       "      <td>Naviforce Sport Saat 2016 ilə zövqlərin ahəngi</td>\n",
       "      <td>Naviforce Sport Saat 2016 Yapon Mexanizmi Yapo...</td>\n",
       "    </tr>\n",
       "    <tr>\n",
       "      <th>1</th>\n",
       "      <td>Maraqlı</td>\n",
       "      <td>Sinir ,oynaq , sinir bel ağrılarına 3 gündə son !</td>\n",
       "      <td>ŞOK ! ŞOK ! ŞOK ! Xanımlar və bəylər , bel və ...</td>\n",
       "    </tr>\n",
       "    <tr>\n",
       "      <th>2</th>\n",
       "      <td>Maraqlı</td>\n",
       "      <td>Dəyərindən qat-qat aşağı qiymətə Mənzil</td>\n",
       "      <td>Dəyərindən qat-qat Aşağı Qiymətə. Həzi Aslanov...</td>\n",
       "    </tr>\n",
       "    <tr>\n",
       "      <th>3</th>\n",
       "      <td>İdman</td>\n",
       "      <td>2024 və 2028-ci il olimpiadalarının keçiriləcə...</td>\n",
       "      <td>2028-ci il Yay Olimpiya və Paralimpiya Oyunla...</td>\n",
       "    </tr>\n",
       "    <tr>\n",
       "      <th>4</th>\n",
       "      <td>Dünya</td>\n",
       "      <td>Türkiyədə zəlzələ</td>\n",
       "      <td>Türkiyədə daha bir zəlzələ meydana gəlib.   L...</td>\n",
       "    </tr>\n",
       "    <tr>\n",
       "      <th>...</th>\n",
       "      <td>...</td>\n",
       "      <td>...</td>\n",
       "      <td>...</td>\n",
       "    </tr>\n",
       "    <tr>\n",
       "      <th>49995</th>\n",
       "      <td>Siyasət</td>\n",
       "      <td>Əli Kərimli terrorçularla da əməkdaşlığa hazır...</td>\n",
       "      <td>AXCP sədri \"Milli Şura\"nın mitinqində qəsdən...</td>\n",
       "    </tr>\n",
       "    <tr>\n",
       "      <th>49996</th>\n",
       "      <td>Siyasət</td>\n",
       "      <td>Elşən Musayev: “Bəlkə elə o terrorist Əli Kəri...</td>\n",
       "      <td>\"Ümumiyyətlə, Milli Şuraya xoş olan, hətta o...</td>\n",
       "    </tr>\n",
       "    <tr>\n",
       "      <th>49997</th>\n",
       "      <td>Dünya</td>\n",
       "      <td>İstanbulda 52 mərtəbəli binada yanğın baş verib</td>\n",
       "      <td>Türkiyənin İstanbul şəhərinin Ataşehir rayon...</td>\n",
       "    </tr>\n",
       "    <tr>\n",
       "      <th>49998</th>\n",
       "      <td>Dünya</td>\n",
       "      <td>“Onlar cinayətkarlardır və bir-bir məhv edilir...</td>\n",
       "      <td>Rusiyanı tərk edərək İŞİD sıralarında döyüşə...</td>\n",
       "    </tr>\n",
       "    <tr>\n",
       "      <th>49999</th>\n",
       "      <td>İqtisadiyyat</td>\n",
       "      <td>Ukrayna Mərkəzi Bankı gözlənilmədən uçot dərəc...</td>\n",
       "      <td>Ukrayna Mərkəzi Bankı (NBU) bu gün keçirdiyi ...</td>\n",
       "    </tr>\n",
       "  </tbody>\n",
       "</table>\n",
       "<p>50000 rows × 3 columns</p>\n",
       "</div>"
      ],
      "text/plain": [
       "           Category                                              Title  \\\n",
       "0           Maraqlı     Naviforce Sport Saat 2016 ilə zövqlərin ahəngi   \n",
       "1           Maraqlı  Sinir ,oynaq , sinir bel ağrılarına 3 gündə son !   \n",
       "2           Maraqlı            Dəyərindən qat-qat aşağı qiymətə Mənzil   \n",
       "3             İdman  2024 və 2028-ci il olimpiadalarının keçiriləcə...   \n",
       "4             Dünya                                 Türkiyədə zəlzələ    \n",
       "...             ...                                                ...   \n",
       "49995       Siyasət  Əli Kərimli terrorçularla da əməkdaşlığa hazır...   \n",
       "49996       Siyasət  Elşən Musayev: “Bəlkə elə o terrorist Əli Kəri...   \n",
       "49997         Dünya    İstanbulda 52 mərtəbəli binada yanğın baş verib   \n",
       "49998         Dünya  “Onlar cinayətkarlardır və bir-bir məhv edilir...   \n",
       "49999  İqtisadiyyat  Ukrayna Mərkəzi Bankı gözlənilmədən uçot dərəc...   \n",
       "\n",
       "                                            News_Article  \n",
       "0      Naviforce Sport Saat 2016 Yapon Mexanizmi Yapo...  \n",
       "1      ŞOK ! ŞOK ! ŞOK ! Xanımlar və bəylər , bel və ...  \n",
       "2      Dəyərindən qat-qat Aşağı Qiymətə. Həzi Aslanov...  \n",
       "3       2028-ci il Yay Olimpiya və Paralimpiya Oyunla...  \n",
       "4       Türkiyədə daha bir zəlzələ meydana gəlib.   L...  \n",
       "...                                                  ...  \n",
       "49995    AXCP sədri \"Milli Şura\"nın mitinqində qəsdən...  \n",
       "49996    \"Ümumiyyətlə, Milli Şuraya xoş olan, hətta o...  \n",
       "49997    Türkiyənin İstanbul şəhərinin Ataşehir rayon...  \n",
       "49998    Rusiyanı tərk edərək İŞİD sıralarında döyüşə...  \n",
       "49999   Ukrayna Mərkəzi Bankı (NBU) bu gün keçirdiyi ...  \n",
       "\n",
       "[50000 rows x 3 columns]"
      ]
     },
     "execution_count": 2,
     "metadata": {},
     "output_type": "execute_result"
    }
   ],
   "source": [
    "dt"
   ]
  },
  {
   "cell_type": "code",
   "execution_count": 3,
   "id": "84528998",
   "metadata": {},
   "outputs": [],
   "source": [
    "from sklearn.model_selection import train_test_split\n",
    "\n",
    "x = dt['News_Article']\n",
    "y = dt['Category']\n",
    "\n",
    "SEED = 42\n",
    "x_train, x_test, y_train, y_test = \\\n",
    "                train_test_split(x, y, test_size = 0.2, random_state = SEED)"
   ]
  },
  {
   "cell_type": "markdown",
   "id": "4daf71c0",
   "metadata": {},
   "source": [
    "# 2. Data preprocessing"
   ]
  },
  {
   "cell_type": "markdown",
   "id": "018387df",
   "metadata": {},
   "source": [
    "#### You are expected to extract features from the news articles using bag-of-words and tf-idf representation techniques. You can use library tools (CountVectorizer, TfidfVectorizer) for this purpose. You may want to limit the vocabulary size by choosing most frequent 3000 tokens. Experiment with different sizes."
   ]
  },
  {
   "cell_type": "code",
   "execution_count": 4,
   "id": "8e9692ae",
   "metadata": {},
   "outputs": [],
   "source": [
    "from sklearn.feature_extraction.text import CountVectorizer\n",
    "from sklearn.feature_extraction.text import TfidfVectorizer\n",
    "cv = CountVectorizer(max_features = 3000)\n",
    "x_train_cv = cv.fit_transform(x_train)\n",
    "\n",
    "tfidf = TfidfVectorizer(max_features = 3000)\n",
    "x_train_tfidf = tfidf.fit_transform(x_train)\n",
    "x_test_tfidf = tfidf.transform(x_test)"
   ]
  },
  {
   "cell_type": "code",
   "execution_count": 5,
   "id": "96935dbd",
   "metadata": {},
   "outputs": [
    {
     "data": {
      "text/plain": [
       "<40000x3000 sparse matrix of type '<class 'numpy.int64'>'\n",
       "\twith 2664988 stored elements in Compressed Sparse Row format>"
      ]
     },
     "execution_count": 5,
     "metadata": {},
     "output_type": "execute_result"
    }
   ],
   "source": [
    "x_train_cv"
   ]
  },
  {
   "cell_type": "code",
   "execution_count": 6,
   "id": "14d55e84",
   "metadata": {},
   "outputs": [
    {
     "data": {
      "text/plain": [
       "<40000x3000 sparse matrix of type '<class 'numpy.float64'>'\n",
       "\twith 2664988 stored elements in Compressed Sparse Row format>"
      ]
     },
     "execution_count": 6,
     "metadata": {},
     "output_type": "execute_result"
    }
   ],
   "source": [
    "x_train_tfidf"
   ]
  },
  {
   "cell_type": "code",
   "execution_count": 7,
   "id": "bcdd0db1",
   "metadata": {},
   "outputs": [
    {
     "data": {
      "text/plain": [
       "<10000x3000 sparse matrix of type '<class 'numpy.float64'>'\n",
       "\twith 668999 stored elements in Compressed Sparse Row format>"
      ]
     },
     "execution_count": 7,
     "metadata": {},
     "output_type": "execute_result"
    }
   ],
   "source": [
    "x_test_tfidf"
   ]
  },
  {
   "cell_type": "markdown",
   "id": "83629159",
   "metadata": {},
   "source": [
    "# 3. Modeling"
   ]
  },
  {
   "cell_type": "markdown",
   "id": "01307852",
   "metadata": {},
   "source": [
    "#### For each of the a) logistic regression, b) naïve Bayes, c) stochastic gradient descent classifier, and d) random forest classifier:\n",
    "- Train it on the training data with Tf-idf representations\n",
    "- Test the model using test set\n",
    "- Achieve accuracy rate of ~80%\n",
    "- Evaluate precision, recall, and F1 scores\n",
    "- Construct confusion matrix\n",
    "#### You can use LogisticRegression, MultinomialNB, SGDClassifier, and RandomForestClassifier"
   ]
  },
  {
   "cell_type": "code",
   "execution_count": 8,
   "id": "e0823044",
   "metadata": {},
   "outputs": [],
   "source": [
    "from sklearn.linear_model import LogisticRegression\n",
    "\n",
    "model_log = LogisticRegression(max_iter = 1000)\n",
    "model_log.fit(x_train_tfidf, y_train)\n",
    "y_pred = model_log.predict(x_test_tfidf)\n",
    "\n",
    "#classifiacation report\n",
    "#confusion matrix"
   ]
  },
  {
   "cell_type": "code",
   "execution_count": 12,
   "id": "fa77fb1d",
   "metadata": {},
   "outputs": [
    {
     "data": {
      "text/plain": [
       "{'avropa': 247,\n",
       " 'şurası': 2864,\n",
       " 'parlament': 1810,\n",
       " 'assambleyasının': 232,\n",
       " 'aşpa': 319,\n",
       " 'yeni': 2656,\n",
       " 'ilk': 1101,\n",
       " 'mümkün': 1472,\n",
       " 'olmayıb': 1739,\n",
       " 'apa': 191,\n",
       " 'xəbər': 2576,\n",
       " 'verir': 2501,\n",
       " 'ki': 1238,\n",
       " 'nın': 1674,\n",
       " 'bu': 452,\n",
       " 'gün': 905,\n",
       " 'başlayan': 366,\n",
       " 'payız': 1819,\n",
       " 'sessiyasında': 2139,\n",
       " 'oktyabrın': 1704,\n",
       " 'da': 530,\n",
       " 'qurumun': 1954,\n",
       " 'prezidenti': 1839,\n",
       " 'vermiş': 2504,\n",
       " 'yerinə': 2665,\n",
       " 'prezident': 1838,\n",
       " 'idi': 1081,\n",
       " 'lakin': 1314,\n",
       " 'nəticəsində': 1693,\n",
       " 'xalq': 2547,\n",
       " 'partiyası': 1812,\n",
       " 'xanım': 2552,\n",
       " 'səs': 2263,\n",
       " 'və': 2526,\n",
       " 'lazım': 1325,\n",
       " 'olan': 1709,\n",
       " 'qədər': 1971,\n",
       " 'iştirak': 1203,\n",
       " 'edən': 702,\n",
       " 'sayı': 2118,\n",
       " 'az': 275,\n",
       " 'olduğundan': 1722,\n",
       " 'ikinci': 1092,\n",
       " 'tur': 2320,\n",
       " 'elan': 715,\n",
       " 'edilib': 678,\n",
       " 'kinci': 1248,\n",
       " 'keçiriləcək': 1230,\n",
       " 'qeyd': 1916,\n",
       " 'edək': 701,\n",
       " '2018': 40,\n",
       " 'ci': 501,\n",
       " 'ilin': 1100,\n",
       " 'yanvar': 2599,\n",
       " 'icra': 1073,\n",
       " 'edəcək': 696,\n",
       " 'qış': 1966,\n",
       " 'müddəti': 1464,\n",
       " 'başa': 361,\n",
       " 'xezerxeber': 2559,\n",
       " '38': 62,\n",
       " 'dəfə': 640,\n",
       " 'oxunub': 1792,\n",
       " 'xüsusi': 2573,\n",
       " 'ilə': 1107,\n",
       " 'vəziyyət': 2538,\n",
       " 'daha': 531,\n",
       " 'sığorta': 2224,\n",
       " 'maliyyə': 1359,\n",
       " 'problemləri': 1848,\n",
       " 'var': 2471,\n",
       " 'qərb': 1980,\n",
       " 'ölkələrində': 2787,\n",
       " 'ümumi': 2822,\n",
       " 'daxili': 551,\n",
       " 'əhəmiyyətli': 2912,\n",
       " 'malikdir': 1358,\n",
       " 'məsələn': 1589,\n",
       " 'abş': 114,\n",
       " 'almaniya': 162,\n",
       " 'sveçrə': 2204,\n",
       " 'kimi': 1243,\n",
       " 'ölkələrdə': 2782,\n",
       " 'də': 638,\n",
       " 'payı': 1818,\n",
       " 'təşkil': 2424,\n",
       " 'edir': 690,\n",
       " 'araşdırmalar': 210,\n",
       " 'göstərir': 888,\n",
       " 'azərbaycanda': 290,\n",
       " 'dən': 647,\n",
       " 'mütəxəssislər': 1500,\n",
       " 'bunu': 460,\n",
       " 'müxtəlif': 1503,\n",
       " 'izah': 1187,\n",
       " 'edirlər': 693,\n",
       " 'məsələləri': 1587,\n",
       " 'üzrə': 2833,\n",
       " 'ekspert': 713,\n",
       " 'bildirdi': 386,\n",
       " 'əvvəllər': 2993,\n",
       " 'amma': 180,\n",
       " 'olsun': 1747,\n",
       " ...}"
      ]
     },
     "execution_count": 12,
     "metadata": {},
     "output_type": "execute_result"
    }
   ],
   "source": [
    "tfidf.vocabulary_"
   ]
  },
  {
   "cell_type": "code",
   "execution_count": 9,
   "id": "8c0c5270",
   "metadata": {},
   "outputs": [
    {
     "name": "stdout",
     "output_type": "stream",
     "text": [
      "              precision    recall  f1-score   support\n",
      "\n",
      "       Dünya       0.81      0.82      0.82      2745\n",
      "     Maraqlı       0.80      0.79      0.80      3172\n",
      "  Mədəniyyət       0.81      0.60      0.69       304\n",
      "     Siyasət       0.83      0.82      0.83      1269\n",
      "       İdman       0.91      0.93      0.92      1264\n",
      "İqtisadiyyat       0.83      0.88      0.85      1246\n",
      "\n",
      "    accuracy                           0.83     10000\n",
      "   macro avg       0.83      0.81      0.82     10000\n",
      "weighted avg       0.83      0.83      0.83     10000\n",
      "\n",
      "[[2258  353    6   52   34   42]\n",
      " [ 389 2507   17   78   67  114]\n",
      " [  17   79  182   20    0    6]\n",
      " [  83   66   12 1037   11   60]\n",
      " [  23   48    4    7 1177    5]\n",
      " [  26   68    5   49    0 1098]]\n",
      "\n",
      "0.8259\n"
     ]
    }
   ],
   "source": [
    "from sklearn.metrics import classification_report\n",
    "from sklearn.metrics import confusion_matrix\n",
    "from sklearn.metrics import accuracy_score\n",
    "\n",
    "print(classification_report(y_test, y_pred))\n",
    "print(confusion_matrix(y_test, y_pred))\n",
    "print()\n",
    "print(accuracy_score(y_test, y_pred))"
   ]
  },
  {
   "cell_type": "code",
   "execution_count": 14,
   "id": "549a66a3",
   "metadata": {},
   "outputs": [],
   "source": [
    "from sklearn.naive_bayes import MultinomialNB\n",
    "model_nb = MultinomialNB()\n",
    "model_nb.fit(x_train_tfidf, y_train)\n",
    "\n",
    "y_pred = model_nb.predict(x_test_tfidf)"
   ]
  },
  {
   "cell_type": "code",
   "execution_count": 15,
   "id": "eac6b3c7",
   "metadata": {},
   "outputs": [
    {
     "name": "stdout",
     "output_type": "stream",
     "text": [
      "              precision    recall  f1-score   support\n",
      "\n",
      "       Dünya       0.75      0.76      0.76      2745\n",
      "     Maraqlı       0.76      0.71      0.73      3172\n",
      "  Mədəniyyət       0.79      0.51      0.62       304\n",
      "     Siyasət       0.75      0.79      0.77      1269\n",
      "       İdman       0.90      0.92      0.91      1264\n",
      "İqtisadiyyat       0.76      0.88      0.81      1246\n",
      "\n",
      "    accuracy                           0.78     10000\n",
      "   macro avg       0.79      0.76      0.77     10000\n",
      "weighted avg       0.78      0.78      0.77     10000\n",
      "\n",
      "[[2093  438    5  111   34   64]\n",
      " [ 570 2239   14  100   79  170]\n",
      " [   7  107  154   28    3    5]\n",
      " [  82   64   13 1005   10   95]\n",
      " [  17   53    5    9 1169   11]\n",
      " [  22   46    5   80    0 1093]]\n",
      "\n",
      "0.7753\n"
     ]
    }
   ],
   "source": [
    "print(classification_report(y_test, y_pred))\n",
    "print(confusion_matrix(y_test, y_pred))\n",
    "print()\n",
    "print(accuracy_score(y_test, y_pred))"
   ]
  },
  {
   "cell_type": "code",
   "execution_count": 16,
   "id": "90588375",
   "metadata": {},
   "outputs": [],
   "source": [
    "from sklearn.linear_model import SGDClassifier\n",
    "model_sdg = SGDClassifier()\n",
    "model_sdg.fit(x_train_tfidf, y_train)\n",
    "\n",
    "y_pred = model_sdg.predict(x_test_tfidf)"
   ]
  },
  {
   "cell_type": "code",
   "execution_count": 17,
   "id": "a9cb1431",
   "metadata": {},
   "outputs": [
    {
     "name": "stdout",
     "output_type": "stream",
     "text": [
      "              precision    recall  f1-score   support\n",
      "\n",
      "       Dünya       0.81      0.82      0.81      2745\n",
      "     Maraqlı       0.81      0.78      0.80      3172\n",
      "  Mədəniyyət       0.81      0.54      0.65       304\n",
      "     Siyasət       0.82      0.84      0.83      1269\n",
      "       İdman       0.90      0.95      0.93      1264\n",
      "İqtisadiyyat       0.82      0.90      0.86      1246\n",
      "\n",
      "    accuracy                           0.83     10000\n",
      "   macro avg       0.83      0.80      0.81     10000\n",
      "weighted avg       0.83      0.83      0.82     10000\n",
      "\n",
      "[[2241  361    7   57   36   43]\n",
      " [ 385 2467   15   84   82  139]\n",
      " [  19   91  165   24    2    3]\n",
      " [  82   45   10 1065   12   55]\n",
      " [  13   31    2    7 1204    7]\n",
      " [  23   38    5   55    2 1123]]\n",
      "\n",
      "0.8265\n"
     ]
    }
   ],
   "source": [
    "print(classification_report(y_test, y_pred))\n",
    "print(confusion_matrix(y_test, y_pred))\n",
    "print()\n",
    "print(accuracy_score(y_test, y_pred))"
   ]
  },
  {
   "cell_type": "code",
   "execution_count": 19,
   "id": "7a0ddf69",
   "metadata": {},
   "outputs": [],
   "source": [
    "from sklearn.ensemble import RandomForestClassifier\n",
    "\n",
    "model_rf = RandomForestClassifier()\n",
    "model_rf.fit(x_train_tfidf, y_train)\n",
    "\n",
    "y_pred = model_rf.predict(x_test_tfidf)"
   ]
  },
  {
   "cell_type": "code",
   "execution_count": 20,
   "id": "a118ef85",
   "metadata": {},
   "outputs": [
    {
     "name": "stdout",
     "output_type": "stream",
     "text": [
      "              precision    recall  f1-score   support\n",
      "\n",
      "       Dünya       0.79      0.83      0.81      2745\n",
      "     Maraqlı       0.78      0.77      0.78      3172\n",
      "  Mədəniyyət       0.87      0.45      0.59       304\n",
      "     Siyasət       0.79      0.82      0.80      1269\n",
      "       İdman       0.90      0.91      0.91      1264\n",
      "İqtisadiyyat       0.82      0.81      0.82      1246\n",
      "\n",
      "    accuracy                           0.81     10000\n",
      "   macro avg       0.83      0.76      0.78     10000\n",
      "weighted avg       0.81      0.81      0.80     10000\n",
      "\n",
      "[[2272  360    0   64   28   21]\n",
      " [ 407 2446   11   98   85  125]\n",
      " [  23   98  136   34    2   11]\n",
      " [  84   80    7 1037    8   53]\n",
      " [  37   58    1   11 1150    7]\n",
      " [  67   97    1   69    1 1011]]\n",
      "\n",
      "0.8052\n"
     ]
    }
   ],
   "source": [
    "print(classification_report(y_test, y_pred))\n",
    "print(confusion_matrix(y_test, y_pred))\n",
    "print()\n",
    "print(accuracy_score(y_test, y_pred))"
   ]
  },
  {
   "cell_type": "code",
   "execution_count": null,
   "id": "899a195c",
   "metadata": {},
   "outputs": [],
   "source": []
  }
 ],
 "metadata": {
  "kernelspec": {
   "display_name": "Python 3 (ipykernel)",
   "language": "python",
   "name": "python3"
  },
  "language_info": {
   "codemirror_mode": {
    "name": "ipython",
    "version": 3
   },
   "file_extension": ".py",
   "mimetype": "text/x-python",
   "name": "python",
   "nbconvert_exporter": "python",
   "pygments_lexer": "ipython3",
   "version": "3.10.5"
  }
 },
 "nbformat": 4,
 "nbformat_minor": 5
}
