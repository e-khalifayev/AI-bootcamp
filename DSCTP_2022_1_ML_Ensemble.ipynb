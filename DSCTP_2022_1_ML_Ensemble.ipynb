{
 "cells": [
  {
   "cell_type": "markdown",
   "id": "e86d262a",
   "metadata": {},
   "source": [
    "# 1. Load dataset\n",
    "#### In this assignment, you are expected to build an ensemble of different models and train it on cover type dataset.\n",
    "#### You will need to read the data from the file (cover.csv). It contains 581012 samples and 54 attributes for each sample."
   ]
  },
  {
   "cell_type": "code",
   "execution_count": null,
   "id": "a6eb8f51",
   "metadata": {},
   "outputs": [],
   "source": []
  },
  {
   "cell_type": "markdown",
   "id": "9dbfce44",
   "metadata": {},
   "source": [
    "# 2. Prepare dataset\n",
    "#### Split the data into train, validation, and test sets."
   ]
  },
  {
   "cell_type": "code",
   "execution_count": null,
   "id": "9913239f",
   "metadata": {},
   "outputs": [],
   "source": []
  },
  {
   "cell_type": "markdown",
   "id": "697ef3a7",
   "metadata": {},
   "source": [
    "# 3. Modeling\n",
    "#### Train different classifiers on the data. You can train RandomForestClassifier, ExtraTreesClassifier, LinearSVC, SGDClassifier, MLPClassifier, etc. Evaluate their performance using validation set."
   ]
  },
  {
   "cell_type": "code",
   "execution_count": null,
   "id": "3206643e",
   "metadata": {},
   "outputs": [],
   "source": []
  },
  {
   "cell_type": "markdown",
   "id": "fb251068",
   "metadata": {},
   "source": [
    "# 4. Ensembling\n",
    "#### Create a hard and soft voting classifier using the models you have trained. You can use VotingClassifier. Check its performance on the validatioin set. Check if any of the models hurts the performance of the ensemble."
   ]
  },
  {
   "cell_type": "code",
   "execution_count": null,
   "id": "b7a4bad4",
   "metadata": {},
   "outputs": [],
   "source": []
  },
  {
   "cell_type": "markdown",
   "id": "e3116a3f",
   "metadata": {},
   "source": [
    "#### Make predictions on the validation set using trained models and create a new training set out of those predictions: each training example will now have predictions of all classifiers as features. Train a new classifier on this new training set. Compare the performances."
   ]
  },
  {
   "cell_type": "code",
   "execution_count": null,
   "id": "52a0474c",
   "metadata": {},
   "outputs": [],
   "source": []
  }
 ],
 "metadata": {
  "kernelspec": {
   "display_name": "Python 3",
   "language": "python",
   "name": "python3"
  },
  "language_info": {
   "codemirror_mode": {
    "name": "ipython",
    "version": 3
   },
   "file_extension": ".py",
   "mimetype": "text/x-python",
   "name": "python",
   "nbconvert_exporter": "python",
   "pygments_lexer": "ipython3",
   "version": "3.8.8"
  }
 },
 "nbformat": 4,
 "nbformat_minor": 5
}
