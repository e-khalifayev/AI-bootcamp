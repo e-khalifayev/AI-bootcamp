{
 "cells": [
  {
   "cell_type": "markdown",
   "id": "392d9fcb",
   "metadata": {},
   "source": [
    "# 1. Load dataset\n",
    "#### For this programming assignment, you are provided with a dataset of handwritten letters and expected to build a CNN model that classifies given image into one of the pre-defined 28 categories. The dataset is provided in two files: train and test sets."
   ]
  },
  {
   "cell_type": "markdown",
   "id": "294819fc",
   "metadata": {},
   "source": [
    "#### You will need to read the data from data files (HandChars32_150_Train.txt and HandChars32_50_Test.txt). The columns are separated by “#” sign. See the description of the columns below:\n",
    "- PatN – index (label) of image\n",
    "- PatType – written form of the letter\n",
    "- PatProb - coefficient of correctness of writing the prototype [0, .., 10].\n",
    "- SizeH, SizeW – height and width of the image, respectively\n",
    "- Data – pixels of the grayscale image\n",
    "#### For building CNN model, you will need to use PatN and Data columns."
   ]
  },
  {
   "cell_type": "markdown",
   "id": "d673e015",
   "metadata": {},
   "source": [
    "#### Once you read the data into a pandas DataFrame, you will need to convert Data column entries into numpy arrays of shape (32, 32). You can do so by first converting to lists of integers and then reshaping respective numpy arrays."
   ]
  },
  {
   "cell_type": "code",
   "execution_count": 7,
   "id": "b2e89251",
   "metadata": {},
   "outputs": [],
   "source": [
    "import pandas as pd\n",
    "df = pd.read_csv(\"HandChars32_150_Train.txt\", sep='#')\n",
    "df1 = pd.read_csv(\"HandChars32_50_Test.txt\", sep = '#')\n",
    "df1 = df1[df1['PatType'] == 0]"
   ]
  },
  {
   "cell_type": "code",
   "execution_count": 8,
   "id": "649d7e00",
   "metadata": {},
   "outputs": [],
   "source": [
    "import numpy as np\n",
    "\n",
    "x_train = []\n",
    "for entry in df['Data']:\n",
    "    l = list(entry)\n",
    "    l = np.array(l, dtype=float)\n",
    "    l = l.reshape(32, 32)\n",
    "    x_train.append(l)\n",
    "x_train = np.array(x_train)\n",
    "\n",
    "y_train = df['PatN'].apply(lambda x: int(x))"
   ]
  },
  {
   "cell_type": "code",
   "execution_count": 9,
   "id": "7c13c92d",
   "metadata": {},
   "outputs": [
    {
     "data": {
      "text/plain": [
       "0    4200\n",
       "Name: PatType, dtype: int64"
      ]
     },
     "execution_count": 9,
     "metadata": {},
     "output_type": "execute_result"
    }
   ],
   "source": [
    "df['PatType'].value_counts()"
   ]
  },
  {
   "cell_type": "code",
   "execution_count": 10,
   "id": "dc63eed7",
   "metadata": {},
   "outputs": [
    {
     "data": {
      "text/plain": [
       "0    1207\n",
       "Name: PatType, dtype: int64"
      ]
     },
     "execution_count": 10,
     "metadata": {},
     "output_type": "execute_result"
    }
   ],
   "source": [
    "df1['PatType'].value_counts()"
   ]
  },
  {
   "cell_type": "code",
   "execution_count": 11,
   "id": "79dc68c9",
   "metadata": {},
   "outputs": [],
   "source": [
    "x_test = []\n",
    "for entry in df1['Data']:\n",
    "    l = list(entry)\n",
    "    l = np.array(l, dtype=float)\n",
    "    l = l.reshape(32, 32)\n",
    "    x_test.append(l)\n",
    "x_test = np.array(x_test)\n",
    "\n",
    "y_test = df1['PatN'].apply(lambda x: int(x))"
   ]
  },
  {
   "cell_type": "markdown",
   "id": "b50198b0",
   "metadata": {},
   "source": [
    "# 2. Visualization\n",
    "#### Visualize some sample images from both train and test sets."
   ]
  },
  {
   "cell_type": "markdown",
   "id": "00461b8d",
   "metadata": {},
   "source": [
    "#### You can use plt.imshow for this purpose."
   ]
  },
  {
   "cell_type": "code",
   "execution_count": 12,
   "id": "dd9eaa8c",
   "metadata": {},
   "outputs": [
    {
     "data": {
      "image/png": "[encoded data removed]",
      "text/plain": [
       "<Figure size 432x288 with 1 Axes>"
      ]
     },
     "metadata": {
      "needs_background": "light"
     },
     "output_type": "display_data"
    }
   ],
   "source": [
    "import numpy as np\n",
    "from matplotlib import pyplot as plt\n",
    "\n",
    "plt.imshow(x_train[1000])\n",
    "plt.show()"
   ]
  },
  {
   "cell_type": "code",
   "execution_count": 13,
   "id": "d8f21c37",
   "metadata": {},
   "outputs": [
    {
     "data": {
      "image/png": "[encoded data removed]",
      "text/plain": [
       "<Figure size 432x288 with 1 Axes>"
      ]
     },
     "metadata": {
      "needs_background": "light"
     },
     "output_type": "display_data"
    }
   ],
   "source": [
    "import numpy as np\n",
    "from matplotlib import pyplot as plt\n",
    "\n",
    "plt.imshow(x_test[1000])\n",
    "plt.show()"
   ]
  },
  {
   "cell_type": "markdown",
   "id": "5e0af169",
   "metadata": {},
   "source": [
    "# 3. Data preparation\n",
    "#### The input to your model should have shape (4200, 32, 32, 1). If your Data column is in correct shape (4200 rows of (32, 32) numpy array), you can use `stack` and `expand_dims` functions to get the desired shape. Make sure you provide correct axis when expanding the dimensions."
   ]
  },
  {
   "cell_type": "code",
   "execution_count": 14,
   "id": "4a7ffe99",
   "metadata": {},
   "outputs": [
    {
     "name": "stdout",
     "output_type": "stream",
     "text": [
      "(4200, 32, 32) (1207, 32, 32)\n"
     ]
    }
   ],
   "source": [
    "print(x_train.shape, x_test.shape)"
   ]
  },
  {
   "cell_type": "code",
   "execution_count": 15,
   "id": "5a9a9c11",
   "metadata": {},
   "outputs": [],
   "source": [
    "x_train = np.expand_dims(x_train, axis = 3)\n",
    "x_test = np.expand_dims(x_test, axis = 3)"
   ]
  },
  {
   "cell_type": "code",
   "execution_count": 16,
   "id": "f3e7e8d1",
   "metadata": {},
   "outputs": [
    {
     "name": "stdout",
     "output_type": "stream",
     "text": [
      "(4200, 32, 32, 1) (1207, 32, 32, 1)\n"
     ]
    }
   ],
   "source": [
    "print(x_train.shape, x_test.shape)"
   ]
  },
  {
   "cell_type": "markdown",
   "id": "60a98a56",
   "metadata": {},
   "source": [
    "#### The labels are in the PatN column of the data. You will need to one-hot encode the labels. You are expected to use `to_categorical` function from tensorflow.keras.utils. You will need to provide unique labels which you can find from the PatN column. Your labels for training and test sets must be (4200, 28) and (1400, 28), respectively."
   ]
  },
  {
   "cell_type": "code",
   "execution_count": 17,
   "id": "213f4700",
   "metadata": {},
   "outputs": [],
   "source": [
    "from tensorflow.keras.utils import to_categorical\n",
    "y_train = to_categorical(y_train, num_classes = 28)\n",
    "y_test = to_categorical(y_test, num_classes = 28)"
   ]
  },
  {
   "cell_type": "code",
   "execution_count": 18,
   "id": "3b70c2f7",
   "metadata": {},
   "outputs": [
    {
     "data": {
      "text/plain": [
       "array([[1., 0., 0., ..., 0., 0., 0.],\n",
       "       [1., 0., 0., ..., 0., 0., 0.],\n",
       "       [1., 0., 0., ..., 0., 0., 0.],\n",
       "       ...,\n",
       "       [0., 0., 0., ..., 0., 0., 1.],\n",
       "       [0., 0., 0., ..., 0., 0., 1.],\n",
       "       [0., 0., 0., ..., 0., 0., 1.]], dtype=float32)"
      ]
     },
     "execution_count": 18,
     "metadata": {},
     "output_type": "execute_result"
    }
   ],
   "source": [
    "y_test"
   ]
  },
  {
   "cell_type": "markdown",
   "id": "ffe67855",
   "metadata": {},
   "source": [
    "# 4. Modeling\n",
    "#### You are expected to build a convolutional neural network and:\n",
    "- Train it on the training data\n",
    "- Perform hyperparameter tuning if needed\n",
    "- Experiment with different designs (layers, layer units, convolutional layers, pooling layers, filters, filter sizes, padding, epochs, etc.)\n",
    "- Evaluate the model using test set\n",
    "- Achieve test accuracy of ~85%\n",
    "#### You are expected to use Tensorflow library. You may need to install it first.\n",
    "#### You will be using `Sequential` module from tensoflow.keras. For an example of `Sequential` model, see the \"Tackling Fashion MNIST With a CNN\" section of the following notebook:\n",
    "https://github.com/ageron/handson-ml2/blob/master/14_deep_computer_vision_with_cnns.ipynb\n",
    "#### You can start with a simple neural network and add convolution and pooling layers as needed.\n",
    "#### You can choose \n",
    "#### Experiment with different settings."
   ]
  },
  {
   "cell_type": "code",
   "execution_count": 19,
   "id": "f069432e",
   "metadata": {},
   "outputs": [],
   "source": [
    "from tensorflow import keras\n",
    "from tensorflow.keras import layers"
   ]
  },
  {
   "cell_type": "markdown",
   "id": "6d8f598c",
   "metadata": {},
   "source": [
    "#### Build a CNN model with the following details:\n",
    "`Convolution layer with 64 filters of size (5, 5), SAME padding and ReLU activation\n",
    "Pooling layer with size (2, 2) and strides (2, 2)\n",
    "Second convolution layer with 128 filters of size (5, 5), SAME padding and ReLU activation\n",
    "Another pooling layer with same settings as previous\n",
    "Flattening layer\n",
    "Dense layer with 1024 neurons and ReLU activation\n",
    "Second dense layer with same configuration as previous\n",
    "Dense layer with 28 neurons and softmax activation\n",
    "`\n",
    "#### Your model should have 9,674,524 parameters. You can check it by calling `summary` method on your model."
   ]
  },
  {
   "cell_type": "code",
   "execution_count": 20,
   "id": "f116b5fc",
   "metadata": {},
   "outputs": [
    {
     "name": "stdout",
     "output_type": "stream",
     "text": [
      "Model: \"sequential\"\n",
      "_________________________________________________________________\n",
      " Layer (type)                Output Shape              Param #   \n",
      "=================================================================\n",
      " conv2d (Conv2D)             (None, 32, 32, 64)        1664      \n",
      "                                                                 \n",
      " max_pooling2d (MaxPooling2D  (None, 16, 16, 64)       0         \n",
      " )                                                               \n",
      "                                                                 \n",
      " conv2d_1 (Conv2D)           (None, 16, 16, 128)       204928    \n",
      "                                                                 \n",
      " max_pooling2d_1 (MaxPooling  (None, 8, 8, 128)        0         \n",
      " 2D)                                                             \n",
      "                                                                 \n",
      " flatten (Flatten)           (None, 8192)              0         \n",
      "                                                                 \n",
      " dense (Dense)               (None, 1024)              8389632   \n",
      "                                                                 \n",
      " dense_1 (Dense)             (None, 1024)              1049600   \n",
      "                                                                 \n",
      " dense_2 (Dense)             (None, 28)                28700     \n",
      "                                                                 \n",
      "=================================================================\n",
      "Total params: 9,674,524\n",
      "Trainable params: 9,674,524\n",
      "Non-trainable params: 0\n",
      "_________________________________________________________________\n"
     ]
    }
   ],
   "source": [
    "model = keras.Sequential([\n",
    "    keras.Input(shape=(32, 32, 1)),\n",
    "    layers.Conv2D(64, kernel_size = (5, 5), padding='SAME', activation = 'relu'),\n",
    "    layers.MaxPooling2D(pool_size=(2, 2), strides=(2, 2)),\n",
    "    layers.Conv2D(128, kernel_size=(5, 5),padding='SAME', activation='relu'),\n",
    "    layers.MaxPooling2D(pool_size=(2,2), strides=(2,2)),\n",
    "    layers.Flatten(),\n",
    "    layers.Dense(1024, activation='relu'),\n",
    "    layers.Dense(1024, activation='relu'),\n",
    "    layers.Dense(28, activation='softmax')\n",
    "])\n",
    "model.summary()"
   ]
  },
  {
   "cell_type": "markdown",
   "id": "30988928",
   "metadata": {},
   "source": [
    "#### Train the model for 5-10 epochs with batch size of 32, RMSprop as optimizer, categorical crossentropy as loss, and accuracy as metric."
   ]
  },
  {
   "cell_type": "code",
   "execution_count": 22,
   "id": "d92887f6",
   "metadata": {},
   "outputs": [],
   "source": [
    "epochs = 5\n",
    "batch_size = 32\n",
    "model.compile()\n",
    "model.compile(optimizer = 'RMSprop', loss = 'categorical_crossentropy', \n",
    "               metrics = ['accuracy'])"
   ]
  },
  {
   "cell_type": "code",
   "execution_count": 23,
   "id": "e5946e22",
   "metadata": {},
   "outputs": [
    {
     "name": "stdout",
     "output_type": "stream",
     "text": [
      "Epoch 1/5\n",
      "132/132 [==============================] - 23s 168ms/step - loss: 1.0319 - accuracy: 0.7045\n",
      "Epoch 2/5\n",
      "132/132 [==============================] - 23s 171ms/step - loss: 0.2049 - accuracy: 0.9345\n",
      "Epoch 3/5\n",
      "132/132 [==============================] - 25s 191ms/step - loss: 0.1091 - accuracy: 0.9669\n",
      "Epoch 4/5\n",
      "132/132 [==============================] - 27s 201ms/step - loss: 0.0646 - accuracy: 0.9807\n",
      "Epoch 5/5\n",
      "132/132 [==============================] - 24s 182ms/step - loss: 0.0366 - accuracy: 0.9900\n"
     ]
    },
    {
     "data": {
      "text/plain": [
       "<keras.callbacks.History at 0x2955c562970>"
      ]
     },
     "execution_count": 23,
     "metadata": {},
     "output_type": "execute_result"
    }
   ],
   "source": [
    "model.fit(x_train, y_train, batch_size=batch_size, epochs=epochs)"
   ]
  },
  {
   "cell_type": "markdown",
   "id": "6b0b1551",
   "metadata": {},
   "source": [
    "#### Perform error analysis to find out what might boost your test accuracy. You are expected to analyze the data closely. You should achieve ~90% test accuracy."
   ]
  },
  {
   "cell_type": "code",
   "execution_count": 25,
   "id": "b439cf3c",
   "metadata": {},
   "outputs": [
    {
     "name": "stdout",
     "output_type": "stream",
     "text": [
      "38/38 [==============================] - 1s 24ms/step - loss: 0.6073 - accuracy: 0.9072\n"
     ]
    }
   ],
   "source": [
    "score = model.evaluate(x_test, y_test)"
   ]
  },
  {
   "cell_type": "code",
   "execution_count": null,
   "id": "66d08811",
   "metadata": {},
   "outputs": [],
   "source": []
  }
 ],
 "metadata": {
  "kernelspec": {
   "display_name": "Python 3 (ipykernel)",
   "language": "python",
   "name": "python3"
  },
  "language_info": {
   "codemirror_mode": {
    "name": "ipython",
    "version": 3
   },
   "file_extension": ".py",
   "mimetype": "text/x-python",
   "name": "python",
   "nbconvert_exporter": "python",
   "pygments_lexer": "ipython3",
   "version": "3.10.5"
  }
 },
 "nbformat": 4,
 "nbformat_minor": 5
}
