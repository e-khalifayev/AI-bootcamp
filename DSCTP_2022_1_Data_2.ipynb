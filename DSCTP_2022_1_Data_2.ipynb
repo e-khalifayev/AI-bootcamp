{
 "cells": [
  {
   "cell_type": "code",
   "execution_count": 1,
   "id": "33101347",
   "metadata": {},
   "outputs": [],
   "source": [
    "import numpy as np\n",
    "import pandas as pd"
   ]
  },
  {
   "cell_type": "markdown",
   "id": "a166d4e6",
   "metadata": {},
   "source": [
    "#### 1. Create a 6x3 integer array with values ranging from 10 to 100 such that the difference between each element is 5"
   ]
  },
  {
   "cell_type": "code",
   "execution_count": 2,
   "id": "652d8a62",
   "metadata": {},
   "outputs": [],
   "source": [
    "task1 = np.array([[10, 15, 20],\n",
    "                 [15, 20, 25],\n",
    "                 [20, 25, 30],\n",
    "                 [25, 30, 35],\n",
    "                 [30, 35, 40],\n",
    "                 [35, 40, 45]])\n",
    "                "
   ]
  },
  {
   "cell_type": "code",
   "execution_count": 3,
   "id": "ad744113",
   "metadata": {},
   "outputs": [
    {
     "name": "stdout",
     "output_type": "stream",
     "text": [
      "[[10 15 20]\n",
      " [15 20 25]\n",
      " [20 25 30]\n",
      " [25 30 35]\n",
      " [30 35 40]\n",
      " [35 40 45]]\n"
     ]
    }
   ],
   "source": [
    "print(task1)"
   ]
  },
  {
   "cell_type": "markdown",
   "id": "23c71f7d",
   "metadata": {},
   "source": [
    "#### 2. Create a numpy array using only starting point, length, and step"
   ]
  },
  {
   "cell_type": "code",
   "execution_count": 4,
   "id": "77e94bc6",
   "metadata": {},
   "outputs": [],
   "source": [
    "length, start, step = 15, 15, 5"
   ]
  },
  {
   "cell_type": "code",
   "execution_count": 5,
   "id": "c53ced91",
   "metadata": {},
   "outputs": [],
   "source": [
    "task2 = np.arange(15, 85, 5)"
   ]
  },
  {
   "cell_type": "code",
   "execution_count": 6,
   "id": "fde894cf",
   "metadata": {},
   "outputs": [
    {
     "name": "stdout",
     "output_type": "stream",
     "text": [
      "[15 20 25 30 35 40 45 50 55 60 65 70 75 80]\n"
     ]
    }
   ],
   "source": [
    "print(task2)"
   ]
  },
  {
   "cell_type": "markdown",
   "id": "aa158d8e",
   "metadata": {},
   "source": [
    "#### 3. Find the index of 3rd repetition of number 2 in my_array"
   ]
  },
  {
   "cell_type": "code",
   "execution_count": 7,
   "id": "83fd9d9e",
   "metadata": {},
   "outputs": [],
   "source": [
    "my_array = np.array([1, 2, 1, 1, 3, 4, 3, 1, 1, 2, 1, 1, 2])"
   ]
  },
  {
   "cell_type": "code",
   "execution_count": 8,
   "id": "9b0c2dc2",
   "metadata": {},
   "outputs": [
    {
     "name": "stdout",
     "output_type": "stream",
     "text": [
      "12\n"
     ]
    }
   ],
   "source": [
    "result = np.where(my_array == 2)\n",
    "print(result[0][2])"
   ]
  },
  {
   "cell_type": "markdown",
   "id": "d38d8b42",
   "metadata": {},
   "source": [
    "#### 4. Subtract the one_dim from the two_dim, such that each item of one_dim is subtracted from respective row of two_dim"
   ]
  },
  {
   "cell_type": "code",
   "execution_count": 9,
   "id": "aba23de3",
   "metadata": {},
   "outputs": [],
   "source": [
    "two_dim = np.array([[30,30,30], [40,40,40], [50,50,50]])\n",
    "one_dim = np.array([10,20,30])"
   ]
  },
  {
   "cell_type": "code",
   "execution_count": 10,
   "id": "d30ca850",
   "metadata": {},
   "outputs": [
    {
     "name": "stdout",
     "output_type": "stream",
     "text": [
      "[[20 10  0]\n",
      " [30 20 10]\n",
      " [40 30 20]]\n"
     ]
    }
   ],
   "source": [
    "print(two_dim - one_dim)"
   ]
  },
  {
   "cell_type": "markdown",
   "id": "b51748e7",
   "metadata": {},
   "source": [
    "#### 5. Drop all nan values from my_array"
   ]
  },
  {
   "cell_type": "code",
   "execution_count": 11,
   "id": "d3199971",
   "metadata": {},
   "outputs": [],
   "source": [
    "my_array = np.array([1,2,3,np.nan,5,6,7,np.nan])"
   ]
  },
  {
   "cell_type": "code",
   "execution_count": 12,
   "id": "2b1e12b3",
   "metadata": {},
   "outputs": [
    {
     "name": "stdout",
     "output_type": "stream",
     "text": [
      "[1. 2. 3. 5. 6. 7.]\n"
     ]
    }
   ],
   "source": [
    "my_array = my_array[~np.isnan(my_array)]\n",
    "print(my_array)"
   ]
  },
  {
   "cell_type": "markdown",
   "id": "eb01b94a",
   "metadata": {},
   "source": [
    "#### 6. Find the mode of petal length (column No 3) in iris dataset"
   ]
  },
  {
   "cell_type": "code",
   "execution_count": 13,
   "id": "c0fcc10e",
   "metadata": {},
   "outputs": [],
   "source": [
    "url = 'https://archive.ics.uci.edu/ml/machine-learning-databases/iris/iris.data'\n",
    "data = np.genfromtxt(url, delimiter=',', dtype='object')"
   ]
  },
  {
   "cell_type": "code",
   "execution_count": 14,
   "id": "89f74b93",
   "metadata": {},
   "outputs": [
    {
     "name": "stdout",
     "output_type": "stream",
     "text": [
      "mode: [b'1.5'] count:  [14]\n"
     ]
    }
   ],
   "source": [
    "from scipy import stats\n",
    "petal = data[:, 2]\n",
    "print('mode:', stats.mode(petal)[0],\\\n",
    "      'count: ', stats.mode(petal)[1])"
   ]
  },
  {
   "cell_type": "markdown",
   "id": "e4e00f3c",
   "metadata": {},
   "source": [
    "#### 7. Normalize sepal length (column No 1) values so that they are exactly between 0 and 1"
   ]
  },
  {
   "cell_type": "code",
   "execution_count": 15,
   "id": "f4711892",
   "metadata": {},
   "outputs": [
    {
     "name": "stdout",
     "output_type": "stream",
     "text": [
      "[0.22222222 0.16666667 0.11111111 0.08333333 0.19444444 0.30555556\n",
      " 0.08333333 0.19444444 0.02777778 0.16666667 0.30555556 0.13888889\n",
      " 0.13888889 0.         0.41666667 0.38888889 0.30555556 0.22222222\n",
      " 0.38888889 0.22222222 0.30555556 0.22222222 0.08333333 0.22222222\n",
      " 0.13888889 0.19444444 0.19444444 0.25       0.25       0.11111111\n",
      " 0.13888889 0.30555556 0.25       0.33333333 0.16666667 0.19444444\n",
      " 0.33333333 0.16666667 0.02777778 0.22222222 0.19444444 0.05555556\n",
      " 0.02777778 0.19444444 0.22222222 0.13888889 0.22222222 0.08333333\n",
      " 0.27777778 0.19444444 0.75       0.58333333 0.72222222 0.33333333\n",
      " 0.61111111 0.38888889 0.55555556 0.16666667 0.63888889 0.25\n",
      " 0.19444444 0.44444444 0.47222222 0.5        0.36111111 0.66666667\n",
      " 0.36111111 0.41666667 0.52777778 0.36111111 0.44444444 0.5\n",
      " 0.55555556 0.5        0.58333333 0.63888889 0.69444444 0.66666667\n",
      " 0.47222222 0.38888889 0.33333333 0.33333333 0.41666667 0.47222222\n",
      " 0.30555556 0.47222222 0.66666667 0.55555556 0.36111111 0.33333333\n",
      " 0.33333333 0.5        0.41666667 0.19444444 0.36111111 0.38888889\n",
      " 0.38888889 0.52777778 0.22222222 0.38888889 0.55555556 0.41666667\n",
      " 0.77777778 0.55555556 0.61111111 0.91666667 0.16666667 0.83333333\n",
      " 0.66666667 0.80555556 0.61111111 0.58333333 0.69444444 0.38888889\n",
      " 0.41666667 0.58333333 0.61111111 0.94444444 0.94444444 0.47222222\n",
      " 0.72222222 0.36111111 0.94444444 0.55555556 0.66666667 0.80555556\n",
      " 0.52777778 0.5        0.58333333 0.80555556 0.86111111 1.\n",
      " 0.58333333 0.55555556 0.5        0.94444444 0.55555556 0.58333333\n",
      " 0.47222222 0.72222222 0.66666667 0.72222222 0.41666667 0.69444444\n",
      " 0.66666667 0.66666667 0.55555556 0.61111111 0.52777778 0.44444444]\n"
     ]
    }
   ],
   "source": [
    "sepal = data[:, 0]\n",
    "sepal = sepal.astype('float')\n",
    "min = sepal.min()\n",
    "max = sepal.max()\n",
    "sepal = (sepal - min)/(max - min)\n",
    "print(sepal)"
   ]
  },
  {
   "cell_type": "markdown",
   "id": "c162cb0e",
   "metadata": {},
   "source": [
    "#### 8. Get the positions of top 5 maximum values in my_array"
   ]
  },
  {
   "cell_type": "code",
   "execution_count": 16,
   "id": "65761182",
   "metadata": {},
   "outputs": [],
   "source": [
    "np.random.seed(100)\n",
    "my_array = np.random.uniform(1, 50, 20)"
   ]
  },
  {
   "cell_type": "code",
   "execution_count": 17,
   "id": "dadb84b9",
   "metadata": {},
   "outputs": [
    {
     "name": "stdout",
     "output_type": "stream",
     "text": [
      "[27.62684215 14.64009987 21.80136195 42.39403048  1.23122395  6.95688692\n",
      " 33.86670515 41.466785    7.69862289 29.17957314 44.67477576 11.25090398\n",
      " 10.08108276  6.31046763 11.76517714 48.95256545 40.77247431  9.42510962\n",
      " 40.99501269 14.42961361]\n",
      "[ 4 13  5  8 17]\n"
     ]
    }
   ],
   "source": [
    "print(my_array)\n",
    "sorted_array = my_array.argsort()\n",
    "print(sorted_array[:5])"
   ]
  },
  {
   "cell_type": "markdown",
   "id": "a731576b",
   "metadata": {},
   "source": [
    "#### 9. Replace all values greater than 50 with 50 and less than 0 to 0 in my_array"
   ]
  },
  {
   "cell_type": "code",
   "execution_count": 18,
   "id": "dd273f5a",
   "metadata": {},
   "outputs": [],
   "source": [
    "np.random.seed(100)\n",
    "my_array = np.random.uniform(-10,100, 30)"
   ]
  },
  {
   "cell_type": "code",
   "execution_count": 19,
   "id": "93e240ff",
   "metadata": {},
   "outputs": [
    {
     "name": "stdout",
     "output_type": "stream",
     "text": [
      "[49.7745436  20.62063236 36.69693498 82.92537456 -9.48092582  3.37260329\n",
      " 63.78239932 80.84380306  5.03772487 53.26026624 88.04541497 13.01223343\n",
      " 10.38610415  1.92145795 14.16672419 97.64861632 79.2851464   8.9135114\n",
      " 79.78472236 20.14811217 37.4874602  93.40328016 79.94143167 26.97231451\n",
      "  9.29514991 31.01152509 -9.37426419 17.76689888 77.52287593 -8.32195316]\n",
      "[49.7745436  20.62063236 36.69693498 50.          0.          3.37260329\n",
      " 50.         50.          5.03772487 50.         50.         13.01223343\n",
      " 10.38610415  1.92145795 14.16672419 50.         50.          8.9135114\n",
      " 50.         20.14811217 37.4874602  50.         50.         26.97231451\n",
      "  9.29514991 31.01152509  0.         17.76689888 50.          0.        ]\n"
     ]
    }
   ],
   "source": [
    "print(my_array)\n",
    "my_array[my_array>50] = 50\n",
    "my_array[my_array<0] = 0\n",
    "print(my_array)\n"
   ]
  },
  {
   "cell_type": "markdown",
   "id": "751449fd",
   "metadata": {},
   "source": [
    "#### 10. Read every 10th row and only specified columns of Boston Housing dataset as a dataframe, convert 'chas' column name to 'river', and write the output to an Excel file without index"
   ]
  },
  {
   "cell_type": "code",
   "execution_count": 20,
   "id": "3619f33b",
   "metadata": {},
   "outputs": [],
   "source": [
    "url = \"https://raw.githubusercontent.com/selva86/datasets/master/BostonHousing.csv\"\n",
    "columns = ['crim', 'chas', 'nox', 'tax', 'ptratio', 'medv']"
   ]
  },
  {
   "cell_type": "code",
   "execution_count": 35,
   "id": "c40b0c2c",
   "metadata": {},
   "outputs": [
    {
     "name": "stdout",
     "output_type": "stream",
     "text": [
      "Index(['crim', 'zn', 'indus', 'chas', 'nox', 'rm', 'age', 'dis', 'rad', 'tax',\n",
      "       'ptratio', 'b', 'lstat', 'medv'],\n",
      "      dtype='object')\n",
      "         crim  river     nox  tax  ptratio  medv\n",
      "0     0.00632      0  0.5380  296     15.3  24.0\n",
      "10    0.22489      0  0.5240  311     15.2  15.0\n",
      "20    1.25179      0  0.5380  307     21.0  13.6\n",
      "30    1.13081      0  0.5380  307     21.0  12.7\n",
      "40    0.03359      0  0.4280  252     18.3  34.9\n",
      "50    0.08873      0  0.4390  243     16.8  19.7\n",
      "60    0.14932      0  0.4530  284     19.7  18.7\n",
      "70    0.08826      0  0.4130  305     19.2  24.2\n",
      "80    0.04113      0  0.4260  281     19.0  28.0\n",
      "90    0.04684      0  0.4890  270     17.8  22.6\n",
      "100   0.14866      0  0.5200  384     20.9  27.5\n",
      "110   0.10793      0  0.5200  384     20.9  21.7\n",
      "120   0.06899      0  0.5810  188     19.1  22.0\n",
      "130   0.34006      0  0.6240  437     21.2  19.2\n",
      "140   0.29090      0  0.6240  437     21.2  14.0\n",
      "150   1.65660      0  0.8710  403     14.7  21.5\n",
      "160   1.27346      1  0.6050  403     14.7  27.0\n",
      "170   1.20742      0  0.6050  403     14.7  17.4\n",
      "180   0.06588      0  0.4880  193     17.8  39.8\n",
      "190   0.09068      0  0.4370  398     15.2  37.0\n",
      "200   0.01778      0  0.4030  402     17.0  32.9\n",
      "210   0.17446      1  0.4890  277     18.6  21.7\n",
      "220   0.35809      1  0.5070  307     17.4  26.7\n",
      "230   0.53700      0  0.5040  307     17.4  24.3\n",
      "240   0.11329      0  0.4280  300     16.6  22.0\n",
      "250   0.14030      0  0.4310  330     19.1  24.4\n",
      "260   0.54011      0  0.6470  264     13.0  33.8\n",
      "270   0.29916      0  0.4640  223     18.6  21.1\n",
      "280   0.03578      0  0.4429  216     14.9  45.4\n",
      "290   0.03502      0  0.4110  245     19.2  28.5\n",
      "300   0.04417      0  0.4000  358     14.8  24.8\n",
      "310   2.63548      0  0.5440  304     18.4  16.1\n",
      "320   0.16760      0  0.4930  287     19.6  23.8\n",
      "330   0.04544      0  0.4600  430     16.9  19.8\n",
      "340   0.06151      0  0.5150  224     20.2  18.7\n",
      "350   0.06211      0  0.4290  335     19.7  22.9\n",
      "360   4.54192      0  0.7700  666     20.2  25.0\n",
      "370   6.53876      1  0.6310  666     20.2  50.0\n",
      "380  88.97620      0  0.6710  666     20.2  10.4\n",
      "390   6.96215      0  0.7000  666     20.2  15.1\n",
      "400  25.04610      0  0.6930  666     20.2   5.6\n",
      "410  51.13580      0  0.5970  666     20.2  15.0\n",
      "420  11.08740      0  0.7180  666     20.2  16.7\n",
      "430   8.49213      0  0.5840  666     20.2  14.5\n",
      "440  22.05110      0  0.7400  666     20.2  10.5\n",
      "450   6.71772      0  0.7130  666     20.2  13.4\n",
      "460   4.81213      0  0.7130  666     20.2  16.4\n",
      "470   4.34879      0  0.5800  666     20.2  19.9\n",
      "480   5.82401      0  0.5320  666     20.2  23.0\n",
      "490   0.20746      0  0.6090  711     20.1   8.1\n",
      "500   0.22438      0  0.5850  391     19.2  16.8\n"
     ]
    }
   ],
   "source": [
    "save = pd.read_csv(url)\n",
    "print(save.columns)\n",
    "df = pd.read_csv(url, usecols = columns)\n",
    "df = df.iloc[::10, :]\n",
    "#or..\n",
    "#df = df[df.index%10 == 0])\n",
    "df = df.rename(columns = {'chas':'river'})\n",
    "print(df)"
   ]
  },
  {
   "cell_type": "markdown",
   "id": "5c9e8a8f",
   "metadata": {},
   "source": [
    "#### 11. Which decade was the most dangerous to live in the US according to crime rates data?"
   ]
  },
  {
   "cell_type": "code",
   "execution_count": 98,
   "id": "6ab4ba40",
   "metadata": {},
   "outputs": [
    {
     "name": "stdout",
     "output_type": "stream",
     "text": [
      "      avg_crimes      avg_pop    danger\n",
      "Year                                   \n",
      "1980  13112336.9  237137006.9  0.055294\n"
     ]
    }
   ],
   "source": [
    "df = pd.read_csv('US_Crime_Rates_1960_2014.csv')\n",
    "df['Year'] = df['Year'].apply(lambda x: (x//10)*10)\n",
    "columns = df.columns\n",
    "df = df.groupby('Year').agg(avg_crimes = ('Total', 'mean'), \\\n",
    "                            avg_pop = ('Population', 'mean'))\n",
    "df['danger'] = df['avg_crimes']/df['avg_pop']\n",
    "print(df[df['danger']==df['danger'].max()])"
   ]
  },
  {
   "cell_type": "markdown",
   "id": "f042fa0f",
   "metadata": {},
   "source": [
    "#### 12. Drop the rows from the movies dataset where all elements are missing. Was there any?"
   ]
  },
  {
   "cell_type": "code",
   "execution_count": 103,
   "id": "bbba098c",
   "metadata": {},
   "outputs": [
    {
     "name": "stdout",
     "output_type": "stream",
     "text": [
      "    adult                              belongs_to_collection    budget  \\\n",
      "0   False  {'id': 10194, 'name': 'Toy Story Collection', ...  30000000   \n",
      "1   False                                                NaN  65000000   \n",
      "2   False  {'id': 119050, 'name': 'Grumpy Old Men Collect...         0   \n",
      "3   False                                                NaN  16000000   \n",
      "4   False  {'id': 96871, 'name': 'Father of the Bride Col...         0   \n",
      "5   False                                                NaN  60000000   \n",
      "6   False                                                NaN  58000000   \n",
      "7   False                                                NaN         0   \n",
      "8   False                                                NaN  35000000   \n",
      "9   False  {'id': 645, 'name': 'James Bond Collection', '...  58000000   \n",
      "10  False                                                NaN  62000000   \n",
      "11  False                                                NaN         0   \n",
      "12  False  {'id': 117693, 'name': 'Balto Collection', 'po...         0   \n",
      "13  False                                                NaN  44000000   \n",
      "14  False                                                NaN  98000000   \n",
      "15  False                                                NaN  52000000   \n",
      "16  False                                                NaN  16500000   \n",
      "17  False                                                NaN   4000000   \n",
      "18  False  {'id': 3167, 'name': 'Ace Ventura Collection',...  30000000   \n",
      "19  False                                                NaN  60000000   \n",
      "20  False  {'id': 91698, 'name': 'Chili Palmer Collection...  30250000   \n",
      "21  False                                                NaN         0   \n",
      "22  False                                                NaN  50000000   \n",
      "23  False                                                NaN         0   \n",
      "24  False                                                NaN   3600000   \n",
      "25  False                                                NaN         0   \n",
      "26  False                                                NaN  12000000   \n",
      "27  False                                                NaN         0   \n",
      "28  False                                                NaN  18000000   \n",
      "29  False                                                NaN         0   \n",
      "30  False                                                NaN         0   \n",
      "31  False                                                NaN  29500000   \n",
      "32  False                                                NaN         0   \n",
      "33  False  {'id': 9435, 'name': 'Babe Collection', 'poste...  30000000   \n",
      "34  False                                                NaN         0   \n",
      "35  False                                                NaN  11000000   \n",
      "36  False                                                NaN         0   \n",
      "37  False                                                NaN         0   \n",
      "38  False                                                NaN  12000000   \n",
      "39  False                                                NaN         0   \n",
      "40  False                                                NaN         0   \n",
      "41  False                                                NaN  10000000   \n",
      "42  False                                                NaN  19000000   \n",
      "43  False  {'id': 9818, 'name': 'Mortal Kombat Collection...  18000000   \n",
      "44  False                                                NaN  20000000   \n",
      "45  False                                                NaN  10000000   \n",
      "46  False                                                NaN  33000000   \n",
      "47  False  {'id': 136214, 'name': 'Pocahontas Collection'...  55000000   \n",
      "48  False                                                NaN         0   \n",
      "49  False                                                NaN   6000000   \n",
      "\n",
      "                                               genres  \\\n",
      "0   [{'id': 16, 'name': 'Animation'}, {'id': 35, '...   \n",
      "1   [{'id': 12, 'name': 'Adventure'}, {'id': 14, '...   \n",
      "2   [{'id': 10749, 'name': 'Romance'}, {'id': 35, ...   \n",
      "3   [{'id': 35, 'name': 'Comedy'}, {'id': 18, 'nam...   \n",
      "4                      [{'id': 35, 'name': 'Comedy'}]   \n",
      "5   [{'id': 28, 'name': 'Action'}, {'id': 80, 'nam...   \n",
      "6   [{'id': 35, 'name': 'Comedy'}, {'id': 10749, '...   \n",
      "7   [{'id': 28, 'name': 'Action'}, {'id': 12, 'nam...   \n",
      "8   [{'id': 28, 'name': 'Action'}, {'id': 12, 'nam...   \n",
      "9   [{'id': 12, 'name': 'Adventure'}, {'id': 28, '...   \n",
      "10  [{'id': 35, 'name': 'Comedy'}, {'id': 18, 'nam...   \n",
      "11  [{'id': 35, 'name': 'Comedy'}, {'id': 27, 'nam...   \n",
      "12  [{'id': 10751, 'name': 'Family'}, {'id': 16, '...   \n",
      "13  [{'id': 36, 'name': 'History'}, {'id': 18, 'na...   \n",
      "14  [{'id': 28, 'name': 'Action'}, {'id': 12, 'nam...   \n",
      "15  [{'id': 18, 'name': 'Drama'}, {'id': 80, 'name...   \n",
      "16  [{'id': 18, 'name': 'Drama'}, {'id': 10749, 'n...   \n",
      "17  [{'id': 80, 'name': 'Crime'}, {'id': 35, 'name...   \n",
      "18  [{'id': 80, 'name': 'Crime'}, {'id': 35, 'name...   \n",
      "19  [{'id': 28, 'name': 'Action'}, {'id': 35, 'nam...   \n",
      "20  [{'id': 35, 'name': 'Comedy'}, {'id': 53, 'nam...   \n",
      "21  [{'id': 18, 'name': 'Drama'}, {'id': 53, 'name...   \n",
      "22  [{'id': 28, 'name': 'Action'}, {'id': 12, 'nam...   \n",
      "23  [{'id': 18, 'name': 'Drama'}, {'id': 14, 'name...   \n",
      "24  [{'id': 18, 'name': 'Drama'}, {'id': 10749, 'n...   \n",
      "25                      [{'id': 18, 'name': 'Drama'}]   \n",
      "26  [{'id': 35, 'name': 'Comedy'}, {'id': 18, 'nam...   \n",
      "27  [{'id': 18, 'name': 'Drama'}, {'id': 10749, 'n...   \n",
      "28  [{'id': 14, 'name': 'Fantasy'}, {'id': 878, 'n...   \n",
      "29  [{'id': 18, 'name': 'Drama'}, {'id': 80, 'name...   \n",
      "30  [{'id': 18, 'name': 'Drama'}, {'id': 80, 'name...   \n",
      "31  [{'id': 878, 'name': 'Science Fiction'}, {'id'...   \n",
      "32  [{'id': 10749, 'name': 'Romance'}, {'id': 12, ...   \n",
      "33  [{'id': 14, 'name': 'Fantasy'}, {'id': 18, 'na...   \n",
      "34  [{'id': 36, 'name': 'History'}, {'id': 18, 'na...   \n",
      "35                      [{'id': 18, 'name': 'Drama'}]   \n",
      "36  [{'id': 12, 'name': 'Adventure'}, {'id': 36, '...   \n",
      "37  [{'id': 35, 'name': 'Comedy'}, {'id': 10751, '...   \n",
      "38  [{'id': 35, 'name': 'Comedy'}, {'id': 18, 'nam...   \n",
      "39                      [{'id': 18, 'name': 'Drama'}]   \n",
      "40  [{'id': 18, 'name': 'Drama'}, {'id': 10752, 'n...   \n",
      "41  [{'id': 28, 'name': 'Action'}, {'id': 80, 'nam...   \n",
      "42  [{'id': 18, 'name': 'Drama'}, {'id': 10749, 'n...   \n",
      "43  [{'id': 28, 'name': 'Action'}, {'id': 14, 'nam...   \n",
      "44  [{'id': 14, 'name': 'Fantasy'}, {'id': 18, 'na...   \n",
      "45  [{'id': 18, 'name': 'Drama'}, {'id': 10749, 'n...   \n",
      "46  [{'id': 80, 'name': 'Crime'}, {'id': 9648, 'na...   \n",
      "47  [{'id': 12, 'name': 'Adventure'}, {'id': 16, '...   \n",
      "48  [{'id': 18, 'name': 'Drama'}, {'id': 10749, 'n...   \n",
      "49  [{'id': 18, 'name': 'Drama'}, {'id': 80, 'name...   \n",
      "\n",
      "                                             homepage      id    imdb_id  \\\n",
      "0                http://toystory.disney.com/toy-story     862  tt0114709   \n",
      "1                                                 NaN    8844  tt0113497   \n",
      "2                                                 NaN   15602  tt0113228   \n",
      "3                                                 NaN   31357  tt0114885   \n",
      "4                                                 NaN   11862  tt0113041   \n",
      "5                                                 NaN     949  tt0113277   \n",
      "6                                                 NaN   11860  tt0114319   \n",
      "7                                                 NaN   45325  tt0112302   \n",
      "8                                                 NaN    9091  tt0114576   \n",
      "9        http://www.mgm.com/view/movie/757/Goldeneye/     710  tt0113189   \n",
      "10                                                NaN    9087  tt0112346   \n",
      "11                                                NaN   12110  tt0112896   \n",
      "12                                                NaN   21032  tt0112453   \n",
      "13                                                NaN   10858  tt0113987   \n",
      "14                                                NaN    1408  tt0112760   \n",
      "15                                                NaN     524  tt0112641   \n",
      "16                                                NaN    4584  tt0114388   \n",
      "17                                                NaN       5  tt0113101   \n",
      "18                                                NaN    9273  tt0112281   \n",
      "19                                                NaN   11517  tt0113845   \n",
      "20                                                NaN    8012  tt0113161   \n",
      "21                                                NaN    1710  tt0112722   \n",
      "22                                                NaN    9691  tt0112401   \n",
      "23                                                NaN   12665  tt0114168   \n",
      "24  http://www.mgm.com/title_title.do?title_star=L...     451  tt0113627   \n",
      "25                                                NaN   16420  tt0114057   \n",
      "26                                                NaN    9263  tt0114011   \n",
      "27                                                NaN   17015  tt0114117   \n",
      "28                                                NaN     902  tt0112682   \n",
      "29                                                NaN   37557  tt0115012   \n",
      "30                                                NaN    9909  tt0112792   \n",
      "31                                                NaN      63  tt0114746   \n",
      "32                                                NaN   78802  tt0114952   \n",
      "33                                                NaN    9598  tt0112431   \n",
      "34                                                NaN   47018  tt0112637   \n",
      "35                                                NaN     687  tt0112818   \n",
      "36                                                NaN  139405  tt0112286   \n",
      "37                                                NaN   33689  tt0113442   \n",
      "38                                                NaN    9603  tt0112697   \n",
      "39                                                NaN   34615  tt0112749   \n",
      "40                                                NaN   31174  tt0114279   \n",
      "41                                                NaN   11443  tt0112819   \n",
      "42                                                NaN   35196  tt0114272   \n",
      "43                                                NaN    9312  tt0113855   \n",
      "44                                                NaN     577  tt0114681   \n",
      "45                                                NaN   11861  tt0113347   \n",
      "46                         http://www.sevenmovie.com/     807  tt0114369   \n",
      "47                                                NaN   10530  tt0114148   \n",
      "48                                                NaN    8391  tt0114916   \n",
      "49  http://www.mgm.com/#/our-titles/2083/The-Usual...     629  tt0114814   \n",
      "\n",
      "   original_language                    original_title  \\\n",
      "0                 en                         Toy Story   \n",
      "1                 en                           Jumanji   \n",
      "2                 en                  Grumpier Old Men   \n",
      "3                 en                 Waiting to Exhale   \n",
      "4                 en       Father of the Bride Part II   \n",
      "5                 en                              Heat   \n",
      "6                 en                           Sabrina   \n",
      "7                 en                      Tom and Huck   \n",
      "8                 en                      Sudden Death   \n",
      "9                 en                         GoldenEye   \n",
      "10                en            The American President   \n",
      "11                en       Dracula: Dead and Loving It   \n",
      "12                en                             Balto   \n",
      "13                en                             Nixon   \n",
      "14                en                  Cutthroat Island   \n",
      "15                en                            Casino   \n",
      "16                en             Sense and Sensibility   \n",
      "17                en                        Four Rooms   \n",
      "18                en    Ace Ventura: When Nature Calls   \n",
      "19                en                       Money Train   \n",
      "20                en                        Get Shorty   \n",
      "21                en                           Copycat   \n",
      "22                en                         Assassins   \n",
      "23                en                            Powder   \n",
      "24                en                 Leaving Las Vegas   \n",
      "25                en                           Othello   \n",
      "26                en                      Now and Then   \n",
      "27                en                        Persuasion   \n",
      "28                fr        La Cité des Enfants Perdus   \n",
      "29                zh                         摇啊摇，摇到外婆桥   \n",
      "30                en                   Dangerous Minds   \n",
      "31                en                    Twelve Monkeys   \n",
      "32                fr  Guillaumet, les ailes du courage   \n",
      "33                en                              Babe   \n",
      "34                en                        Carrington   \n",
      "35                en                  Dead Man Walking   \n",
      "36                en            Across the Sea of Time   \n",
      "37                en                      It Takes Two   \n",
      "38                en                          Clueless   \n",
      "39                en          Cry, the Beloved Country   \n",
      "40                en                       Richard III   \n",
      "41                en                   Dead Presidents   \n",
      "42                en                       Restoration   \n",
      "43                en                     Mortal Kombat   \n",
      "44                en                        To Die For   \n",
      "45                en     How To Make An American Quilt   \n",
      "46                en                             Se7en   \n",
      "47                en                        Pocahontas   \n",
      "48                en             When Night Is Falling   \n",
      "49                en                The Usual Suspects   \n",
      "\n",
      "                                             overview  ...  release_date  \\\n",
      "0   Led by Woody, Andy's toys live happily in his ...  ...    1995-10-30   \n",
      "1   When siblings Judy and Peter discover an encha...  ...    1995-12-15   \n",
      "2   A family wedding reignites the ancient feud be...  ...    1995-12-22   \n",
      "3   Cheated on, mistreated and stepped on, the wom...  ...    1995-12-22   \n",
      "4   Just when George Banks has recovered from his ...  ...    1995-02-10   \n",
      "5   Obsessive master thief, Neil McCauley leads a ...  ...    1995-12-15   \n",
      "6   An ugly duckling having undergone a remarkable...  ...    1995-12-15   \n",
      "7   A mischievous young boy, Tom Sawyer, witnesses...  ...    1995-12-22   \n",
      "8   International action superstar Jean Claude Van...  ...    1995-12-22   \n",
      "9   James Bond must unmask the mysterious head of ...  ...    1995-11-16   \n",
      "10  Widowed U.S. president Andrew Shepherd, one of...  ...    1995-11-17   \n",
      "11  When a lawyer shows up at the vampire's doorst...  ...    1995-12-22   \n",
      "12  An outcast half-wolf risks his life to prevent...  ...    1995-12-22   \n",
      "13  An all-star cast powers this epic look at Amer...  ...    1995-12-22   \n",
      "14  Morgan Adams and her slave, William Shaw, are ...  ...    1995-12-22   \n",
      "15  The life of the gambling paradise – Las Vegas ...  ...    1995-11-22   \n",
      "16  Rich Mr. Dashwood dies, leaving his second wif...  ...    1995-12-13   \n",
      "17  It's Ted the Bellhop's first night on the job....  ...    1995-12-09   \n",
      "18  Summoned from an ashram in Tibet, Ace finds hi...  ...    1995-11-10   \n",
      "19  A vengeful New York transit cop decides to ste...  ...    1995-11-21   \n",
      "20  Chili Palmer is a Miami mobster who gets sent ...  ...    1995-10-20   \n",
      "21  An agoraphobic psychologist and a female detec...  ...    1995-10-27   \n",
      "22  Assassin Robert Rath arrives at a funeral to k...  ...    1995-10-06   \n",
      "23  Harassed by classmates who won't accept his sh...  ...    1995-10-27   \n",
      "24  Ben Sanderson, an alcoholic Hollywood screenwr...  ...    1995-10-27   \n",
      "25  The evil Iago pretends to be friend of Othello...  ...    1995-12-15   \n",
      "26  Waxing nostalgic about the bittersweet passage...  ...    1995-10-20   \n",
      "27  This film adaptation of Jane Austen's last nov...  ...    1995-09-27   \n",
      "28  A scientist in a surrealist society kidnaps ch...  ...    1995-05-16   \n",
      "29  A provincial boy related to a Shanghai crime f...  ...    1995-04-30   \n",
      "30  Former Marine Louanne Johnson lands a gig teac...  ...    1995-08-11   \n",
      "31  In the year 2035, convict James Cole reluctant...  ...    1995-12-29   \n",
      "32                                                NaN  ...    1996-09-18   \n",
      "33  Babe is a little pig who doesn't quite know hi...  ...    1995-07-18   \n",
      "34  The story of the relationship between painter ...  ...    1995-11-08   \n",
      "35  A justice drama based on a true story about a ...  ...    1995-12-29   \n",
      "36  A young Russian boy, Thomas Minton, travels to...  ...    1995-10-20   \n",
      "37  Identical 9-year-olds from very different back...  ...    1995-11-17   \n",
      "38  Shallow, rich and socially successful Cher is ...  ...    1995-07-19   \n",
      "39  A South-African preacher goes to search for hi...  ...    1995-12-15   \n",
      "40  Shakespeare's Play transplanted into a 1930s s...  ...    1995-12-29   \n",
      "41  Depicts a heist of old bills, retired from cir...  ...    1995-10-06   \n",
      "42  An aspiring young physician, Robert Merivel fo...  ...    1995-12-29   \n",
      "43  For nine generations an evil sorcerer has been...  ...    1995-08-18   \n",
      "44  Susan wants to work in television and will the...  ...    1995-05-20   \n",
      "45  Soon-to-be-wed graduate student Finn Dodd deve...  ...    1995-10-06   \n",
      "46  Two homicide detectives are on a desperate hun...  ...    1995-09-22   \n",
      "47  History comes gloriously to life in Disney's e...  ...    1995-06-14   \n",
      "48  A prudish woman, working on tenure as a litera...  ...    1995-05-05   \n",
      "49  Held in an L.A. interrogation room, Verbal Kin...  ...    1995-07-19   \n",
      "\n",
      "      revenue runtime                                   spoken_languages  \\\n",
      "0   373554033    81.0           [{'iso_639_1': 'en', 'name': 'English'}]   \n",
      "1   262797249   104.0  [{'iso_639_1': 'en', 'name': 'English'}, {'iso...   \n",
      "2           0   101.0           [{'iso_639_1': 'en', 'name': 'English'}]   \n",
      "3    81452156   127.0           [{'iso_639_1': 'en', 'name': 'English'}]   \n",
      "4    76578911   106.0           [{'iso_639_1': 'en', 'name': 'English'}]   \n",
      "5   187436818   170.0  [{'iso_639_1': 'en', 'name': 'English'}, {'iso...   \n",
      "6           0   127.0  [{'iso_639_1': 'fr', 'name': 'Français'}, {'is...   \n",
      "7           0    97.0  [{'iso_639_1': 'en', 'name': 'English'}, {'iso...   \n",
      "8    64350171   106.0           [{'iso_639_1': 'en', 'name': 'English'}]   \n",
      "9   352194034   130.0  [{'iso_639_1': 'en', 'name': 'English'}, {'iso...   \n",
      "10  107879496   106.0           [{'iso_639_1': 'en', 'name': 'English'}]   \n",
      "11          0    88.0  [{'iso_639_1': 'en', 'name': 'English'}, {'iso...   \n",
      "12   11348324    78.0           [{'iso_639_1': 'en', 'name': 'English'}]   \n",
      "13   13681765   192.0           [{'iso_639_1': 'en', 'name': 'English'}]   \n",
      "14   10017322   119.0  [{'iso_639_1': 'en', 'name': 'English'}, {'iso...   \n",
      "15  116112375   178.0           [{'iso_639_1': 'en', 'name': 'English'}]   \n",
      "16  135000000   136.0           [{'iso_639_1': 'en', 'name': 'English'}]   \n",
      "17    4300000    98.0           [{'iso_639_1': 'en', 'name': 'English'}]   \n",
      "18  212385533    90.0           [{'iso_639_1': 'en', 'name': 'English'}]   \n",
      "19   35431113   103.0           [{'iso_639_1': 'en', 'name': 'English'}]   \n",
      "20  115101622   105.0           [{'iso_639_1': 'en', 'name': 'English'}]   \n",
      "21          0   124.0  [{'iso_639_1': 'en', 'name': 'English'}, {'iso...   \n",
      "22   30303072   132.0  [{'iso_639_1': 'en', 'name': 'English'}, {'iso...   \n",
      "23          0   111.0           [{'iso_639_1': 'en', 'name': 'English'}]   \n",
      "24   49800000   112.0           [{'iso_639_1': 'en', 'name': 'English'}]   \n",
      "25          0   123.0           [{'iso_639_1': 'en', 'name': 'English'}]   \n",
      "26   27400000   100.0           [{'iso_639_1': 'en', 'name': 'English'}]   \n",
      "27          0   104.0           [{'iso_639_1': 'en', 'name': 'English'}]   \n",
      "28    1738611   108.0  [{'iso_639_1': 'cn', 'name': '广州话 / 廣州話'}, {'i...   \n",
      "29          0   108.0               [{'iso_639_1': 'zh', 'name': '普通话'}]   \n",
      "30  180000000    99.0           [{'iso_639_1': 'en', 'name': 'English'}]   \n",
      "31  168840000   129.0  [{'iso_639_1': 'en', 'name': 'English'}, {'iso...   \n",
      "32          0    50.0           [{'iso_639_1': 'en', 'name': 'English'}]   \n",
      "33  254134910    89.0           [{'iso_639_1': 'en', 'name': 'English'}]   \n",
      "34          0   121.0           [{'iso_639_1': 'en', 'name': 'English'}]   \n",
      "35   39363635   122.0           [{'iso_639_1': 'en', 'name': 'English'}]   \n",
      "36          0    51.0  [{'iso_639_1': 'ru', 'name': 'Pусский'}, {'iso...   \n",
      "37          0   101.0           [{'iso_639_1': 'en', 'name': 'English'}]   \n",
      "38          0    97.0  [{'iso_639_1': 'es', 'name': 'Español'}, {'iso...   \n",
      "39     676525   106.0           [{'iso_639_1': 'en', 'name': 'English'}]   \n",
      "40          0   104.0           [{'iso_639_1': 'en', 'name': 'English'}]   \n",
      "41          0   119.0           [{'iso_639_1': 'en', 'name': 'English'}]   \n",
      "42          0   117.0  [{'iso_639_1': 'en', 'name': 'English'}, {'iso...   \n",
      "43  122195920   101.0           [{'iso_639_1': 'en', 'name': 'English'}]   \n",
      "44   21284514   106.0           [{'iso_639_1': 'en', 'name': 'English'}]   \n",
      "45   23574130   116.0           [{'iso_639_1': 'en', 'name': 'English'}]   \n",
      "46  327311859   127.0           [{'iso_639_1': 'en', 'name': 'English'}]   \n",
      "47  346079773    81.0           [{'iso_639_1': 'en', 'name': 'English'}]   \n",
      "48          0    96.0           [{'iso_639_1': 'en', 'name': 'English'}]   \n",
      "49   23341568   106.0  [{'iso_639_1': 'es', 'name': 'Español'}, {'iso...   \n",
      "\n",
      "      status                                            tagline  \\\n",
      "0   Released                                                NaN   \n",
      "1   Released          Roll the dice and unleash the excitement!   \n",
      "2   Released  Still Yelling. Still Fighting. Still Ready for...   \n",
      "3   Released  Friends are the people who let you be yourself...   \n",
      "4   Released  Just When His World Is Back To Normal... He's ...   \n",
      "5   Released                           A Los Angeles Crime Saga   \n",
      "6   Released  You are cordially invited to the most surprisi...   \n",
      "7   Released                             The Original Bad Boys.   \n",
      "8   Released                         Terror goes into overtime.   \n",
      "9   Released               No limits. No fears. No substitutes.   \n",
      "10  Released  Why can't the most powerful man in the world h...   \n",
      "11  Released                                                NaN   \n",
      "12  Released                     Part Dog. Part Wolf. All Hero.   \n",
      "13  Released  Triumphant in Victory, Bitter in Defeat. He Ch...   \n",
      "14  Released  The Course Has Been Set. There Is No Turning B...   \n",
      "15  Released                   No one stays at the top forever.   \n",
      "16  Released           Lose your heart and come to your senses.   \n",
      "17  Released  Twelve outrageous guests. Four scandalous requ...   \n",
      "18  Released            New animals. New adventures. Same hair.   \n",
      "19  Released                        Get on, or GET OUT THE WAY!   \n",
      "20  Released  The mob is tough, but it’s nothing like show b...   \n",
      "21  Released  One man is copying the most notorious killers ...   \n",
      "22  Released  In the shadows of life, In the business of dea...   \n",
      "23  Released  An extraordinary encounter with another human ...   \n",
      "24  Released                     I Love You... The Way You Are.   \n",
      "25  Released                    Envy, greed, jealousy and love.   \n",
      "26  Released  In every woman there is the girl she left behind.   \n",
      "27  Released                                                NaN   \n",
      "28  Released          Where happily ever after is just a dream.   \n",
      "29  Released  In 1930's Shanghai violence was not the proble...   \n",
      "30  Released    She broke the rules... and changed their lives.   \n",
      "31  Released                             The future is history.   \n",
      "32  Released                                                NaN   \n",
      "33  Released                      A little pig goes a long way.   \n",
      "34  Released                A Love so Unusual it has to be True   \n",
      "35  Released                                                NaN   \n",
      "36  Released                                                NaN   \n",
      "37  Released  Two identical strangers. Two different worlds....   \n",
      "38  Released  Sex. Clothes. Popularity. Is there a problem h...   \n",
      "39  Released                                                NaN   \n",
      "40  Released              I can smile, and murder while I smile   \n",
      "41  Released  In this daring heist, the only color that coun...   \n",
      "42  Released                                                NaN   \n",
      "43  Released   Nothing In This World Has Prepared You For This.   \n",
      "44  Released             All she wanted was a little attention.   \n",
      "45  Released            There's beauty in the patterns of life.   \n",
      "46  Released              Seven deadly sins. Seven ways to die.   \n",
      "47  Released                  An American legend comes to life.   \n",
      "48  Released                                                NaN   \n",
      "49  Released       Five Criminals. One Line Up. No Coincidence.   \n",
      "\n",
      "                             title  video vote_average vote_count  \n",
      "0                        Toy Story  False          7.7       5415  \n",
      "1                          Jumanji  False          6.9       2413  \n",
      "2                 Grumpier Old Men  False          6.5         92  \n",
      "3                Waiting to Exhale  False          6.1         34  \n",
      "4      Father of the Bride Part II  False          5.7        173  \n",
      "5                             Heat  False          7.7       1886  \n",
      "6                          Sabrina  False          6.2        141  \n",
      "7                     Tom and Huck  False          5.4         45  \n",
      "8                     Sudden Death  False          5.5        174  \n",
      "9                        GoldenEye  False          6.6       1194  \n",
      "10          The American President  False          6.5        199  \n",
      "11     Dracula: Dead and Loving It  False          5.7        210  \n",
      "12                           Balto  False          7.1        423  \n",
      "13                           Nixon  False          7.1         72  \n",
      "14                Cutthroat Island  False          5.7        137  \n",
      "15                          Casino  False          7.8       1343  \n",
      "16           Sense and Sensibility  False          7.2        364  \n",
      "17                      Four Rooms  False          6.5        539  \n",
      "18  Ace Ventura: When Nature Calls  False          6.1       1128  \n",
      "19                     Money Train  False          5.4        224  \n",
      "20                      Get Shorty  False          6.4        305  \n",
      "21                         Copycat  False          6.5        199  \n",
      "22                       Assassins  False          6.0        394  \n",
      "23                          Powder  False          6.3        143  \n",
      "24               Leaving Las Vegas  False          7.1        365  \n",
      "25                         Othello  False          7.0         33  \n",
      "26                    Now and Then  False          6.6         91  \n",
      "27                      Persuasion  False          7.4         36  \n",
      "28       The City of Lost Children  False          7.6        308  \n",
      "29                  Shanghai Triad  False          6.5         17  \n",
      "30                 Dangerous Minds  False          6.4        249  \n",
      "31                  Twelve Monkeys  False          7.4       2470  \n",
      "32                Wings of Courage  False          6.8          4  \n",
      "33                            Babe  False          6.0        756  \n",
      "34                      Carrington  False          6.4         16  \n",
      "35                Dead Man Walking  False          7.3        350  \n",
      "36          Across the Sea of Time  False          3.5          2  \n",
      "37                    It Takes Two  False          6.1        149  \n",
      "38                        Clueless  False          6.9        828  \n",
      "39        Cry, the Beloved Country  False          6.7         13  \n",
      "40                     Richard III  False          6.9         50  \n",
      "41                 Dead Presidents  False          6.6         80  \n",
      "42                     Restoration  False          6.3         30  \n",
      "43                   Mortal Kombat  False          5.4        452  \n",
      "44                      To Die For  False          6.7        177  \n",
      "45   How To Make An American Quilt  False          6.5         38  \n",
      "46                           Se7en  False          8.1       5915  \n",
      "47                      Pocahontas  False          6.7       1509  \n",
      "48           When Night Is Falling  False          5.9         10  \n",
      "49              The Usual Suspects  False          8.1       3334  \n",
      "\n",
      "[50 rows x 24 columns]\n"
     ]
    }
   ],
   "source": [
    "df = pd.read_csv('movies_metadata.csv')\n",
    "df.dropna(how = 'all', inplace = True)\n",
    "print(df)\n",
    "\n",
    "#No"
   ]
  },
  {
   "cell_type": "markdown",
   "id": "a3f4ca00",
   "metadata": {},
   "source": [
    "#### 13. Merge df1 and df2 to get df3"
   ]
  },
  {
   "cell_type": "code",
   "execution_count": 24,
   "id": "7565c553",
   "metadata": {},
   "outputs": [
    {
     "name": "stdout",
     "output_type": "stream",
     "text": [
      "Original DataFrames:\n",
      "Dataframe 1:\n",
      "   key1 key2   P   Q\n",
      "0   K0   K0  P0  Q0\n",
      "1   K0   K1  P1  Q1\n",
      "2   K1   K0  P2  Q2\n",
      "3   K2   K1  P3  Q3 \n",
      "DataFrame 2:\n",
      "   key1 key2   R   S\n",
      "0   K0   K0  R0  S0\n",
      "1   K1   K0  R1  S1\n",
      "2   K1   K0  R2  S2\n",
      "3   K2   K0  R3  S3\n",
      "Desired DataFrame:\n",
      "   key1 key2    P    Q    R    S\n",
      "0   K0   K0   P0   Q0   R0   S0\n",
      "1   K0   K1   P1   Q1  NaN  NaN\n",
      "2   K1   K0   P2   Q2   R1   S1\n",
      "3   K1   K0   P2   Q2   R2   S2\n",
      "4   K2   K1   P3   Q3  NaN  NaN\n",
      "5   K2   K0  NaN  NaN   R3   S3\n"
     ]
    }
   ],
   "source": [
    "df1 = pd.DataFrame({'key1': ['K0', 'K0', 'K1', 'K2'],\n",
    "                    'key2': ['K0', 'K1', 'K0', 'K1'],\n",
    "                    'P': ['P0', 'P1', 'P2', 'P3'],\n",
    "                    'Q': ['Q0', 'Q1', 'Q2', 'Q3']}) \n",
    "df2 = pd.DataFrame({'key1': ['K0', 'K1', 'K1', 'K2'],\n",
    "                    'key2': ['K0', 'K0', 'K0', 'K0'],\n",
    "                    'R': ['R0', 'R1', 'R2', 'R3'],\n",
    "                    'S': ['S0', 'S1', 'S2', 'S3']})\n",
    "df3 = pd.DataFrame({'key1': ['K0', 'K0', 'K1', 'K1', 'K2', 'K2'],\n",
    "                    'key2': ['K0', 'K1', 'K0', 'K0', 'K1', 'K0'],\n",
    "                    'P': ['P0', 'P1', 'P2', 'P2', 'P3', np.nan],\n",
    "                    'Q': ['Q0', 'Q1', 'Q2', 'Q2', 'Q3', np.nan],\n",
    "                    'R': ['R0', np.nan, 'R1', 'R2', np.nan, 'R3'],\n",
    "                    'S': ['S0', np.nan, 'S1', 'S2', np.nan, 'S3']})\n",
    "print(\"Original DataFrames:\\nDataframe 1:\\n\", df1, '\\nDataFrame 2:\\n', df2)\n",
    "print(\"Desired DataFrame:\\n\", df3)"
   ]
  },
  {
   "cell_type": "code",
   "execution_count": 25,
   "id": "e2654e6f",
   "metadata": {},
   "outputs": [
    {
     "name": "stdout",
     "output_type": "stream",
     "text": [
      "  key1 key2    P    Q    R    S\n",
      "0   K0   K0   P0   Q0   R0   S0\n",
      "1   K0   K1   P1   Q1  NaN  NaN\n",
      "2   K1   K0   P2   Q2   R1   S1\n",
      "3   K1   K0   P2   Q2   R2   S2\n",
      "4   K2   K1   P3   Q3  NaN  NaN\n",
      "5   K2   K0  NaN  NaN   R3   S3\n"
     ]
    }
   ],
   "source": [
    "df3 = pd.merge(df1, df2, how = 'outer')\n",
    "print(df3)"
   ]
  },
  {
   "cell_type": "markdown",
   "id": "193a8376",
   "metadata": {},
   "source": [
    "#### 14. Merge left_df and right_df to get df"
   ]
  },
  {
   "cell_type": "code",
   "execution_count": 26,
   "id": "b4c3bee9",
   "metadata": {},
   "outputs": [
    {
     "name": "stdout",
     "output_type": "stream",
     "text": [
      "Original DataFrames:\n",
      "Dataframe 1:\n",
      "   transaction_id user_id  value\n",
      "0              A   Peter     43\n",
      "1              B    John     76\n",
      "2              C    John     54\n",
      "3              D    Anna     88 \n",
      "DataFrame 2:\n",
      "   user_id_r favorite_color\n",
      "0      Paul           blue\n",
      "1      Mary           blue\n",
      "2      John            red\n",
      "3      Anna            NaN\n",
      "4    Edward         orange\n",
      "Desired DataFrame:\n",
      "   transaction_id user_id  value favorite_color\n",
      "0              A   Peter     43           blue\n",
      "1              B    John     76           blue\n",
      "2              C    John     54            red\n",
      "3              D    Anna     88            NaN\n"
     ]
    }
   ],
   "source": [
    "left_df = pd.DataFrame({'transaction_id': ['A', 'B', 'C', 'D'], \n",
    "                       'user_id': ['Peter', 'John', 'John', 'Anna'],\n",
    "                       'value': [43, 76, 54, 88]})\n",
    "right_df = pd.DataFrame({'user_id_r': ['Paul', 'Mary', 'John', 'Anna', 'Edward'],\n",
    "                        'favorite_color': ['blue', 'blue', 'red', np.nan, 'orange']})\n",
    "df = pd.DataFrame({'transaction_id': ['A', 'B', 'C', 'D'],\n",
    "                   'user_id': ['Peter', 'John', 'John', 'Anna'],\n",
    "                   'value': [43, 76, 54, 88],\n",
    "                   'favorite_color': ['blue', 'blue', 'red', np.nan]})\n",
    "print(\"Original DataFrames:\\nDataframe 1:\\n\", left_df, '\\nDataFrame 2:\\n', right_df)\n",
    "print(\"Desired DataFrame:\\n\", df)"
   ]
  },
  {
   "cell_type": "code",
   "execution_count": 27,
   "id": "563bb3ab",
   "metadata": {},
   "outputs": [
    {
     "name": "stdout",
     "output_type": "stream",
     "text": [
      "  transaction_id user_id  value user_id_r favorite_color\n",
      "0              A   Peter     43      Paul           blue\n",
      "1              B    John     76      Mary           blue\n",
      "2              C    John     54      John            red\n",
      "3              D    Anna     88      Anna            NaN\n"
     ]
    }
   ],
   "source": [
    "df = left_df.join(right_df)\n",
    "print(df)\n",
    "\n",
    "# understanding between join, merge, on, right, left, outer"
   ]
  },
  {
   "cell_type": "markdown",
   "id": "c4d3d1cf",
   "metadata": {},
   "source": [
    "#### 15.  Convert year and day of year into a single date column to get the desired DataFrame "
   ]
  },
  {
   "cell_type": "code",
   "execution_count": 28,
   "id": "52ecb76a",
   "metadata": {
    "scrolled": true
   },
   "outputs": [
    {
     "name": "stdout",
     "output_type": "stream",
     "text": [
      "Original DataFrame:\n",
      "    year  day_of_the_year\n",
      "0  2005              250\n",
      "1  2008              364\n",
      "2  2010                1\n",
      "3  2022              176\n",
      "Desired DataFrame:\n",
      "    year  day_of_the_year        date\n",
      "0  2005              250  2005-09-07\n",
      "1  2008              364  2008-12-29\n",
      "2  2010                1  2010-01-01\n",
      "3  2022              176  2022-06-25\n"
     ]
    }
   ],
   "source": [
    "data1 = pd.DataFrame({\"year\": [2005, 2008, 2010, 2022],\n",
    "                      \"day_of_the_year\": [250, 364, 1, 176]})\n",
    "data2 = pd.DataFrame({\"year\": [2005, 2008, 2010, 2022],\n",
    "                      \"day_of_the_year\": [250, 364, 1, 176],\n",
    "                      \"date\": ['2005-09-07', '2008-12-29', '2010-01-01', '2022-06-25']})\n",
    "print(\"Original DataFrame:\\n\", data1)\n",
    "print(\"Desired DataFrame:\\n\", data2)"
   ]
  },
  {
   "cell_type": "code",
   "execution_count": 130,
   "id": "a63e7f5e",
   "metadata": {},
   "outputs": [],
   "source": [
    "def date(year, day):\n",
    "    months = {'1':31, '2':28, '3':31, '4':30, '5':31, '6':30, \\\n",
    "              '7':31, '8':31, '9':30, '10': 31, '11':30, '12':31 }\n",
    "    for key in months:\n",
    "        i = 0\n",
    "        if year.iloc[i] % 4 == 0:\n",
    "            months.update({'2': 29})\n",
    "        else:\n",
    "            months.update({'2': 29})\n",
    "        l = 0\n",
    "        l += months[key]\n",
    "        if l >= day[i]:\n",
    "            break\n",
    "    l -= months[key]\n",
    "    month = key\n",
    "    number = str(day[i] - l)\n",
    "    i += 1\n",
    "    return \"{}-{}-{}\".format(year[i], month, number)\n"
   ]
  },
  {
   "cell_type": "code",
   "execution_count": 131,
   "id": "c9fb2d0e",
   "metadata": {},
   "outputs": [],
   "source": [
    "lk = date(data1['year'], data1['day_of_the_year'])"
   ]
  },
  {
   "cell_type": "code",
   "execution_count": 132,
   "id": "a806f334",
   "metadata": {},
   "outputs": [
    {
     "name": "stdout",
     "output_type": "stream",
     "text": [
      "2008-12-250\n"
     ]
    }
   ],
   "source": [
    "print(lk)"
   ]
  },
  {
   "cell_type": "code",
   "execution_count": null,
   "id": "93b19147",
   "metadata": {},
   "outputs": [],
   "source": []
  }
 ],
 "metadata": {
  "kernelspec": {
   "display_name": "Python 3 (ipykernel)",
   "language": "python",
   "name": "python3"
  },
  "language_info": {
   "codemirror_mode": {
    "name": "ipython",
    "version": 3
   },
   "file_extension": ".py",
   "mimetype": "text/x-python",
   "name": "python",
   "nbconvert_exporter": "python",
   "pygments_lexer": "ipython3",
   "version": "3.9.7"
  }
 },
 "nbformat": 4,
 "nbformat_minor": 5
}
